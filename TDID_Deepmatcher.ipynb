{
  "nbformat": 4,
  "nbformat_minor": 0,
  "metadata": {
    "colab": {
      "provenance": []
    },
    "kernelspec": {
      "display_name": "Python 3",
      "name": "python3"
    }
  },
  "cells": [
    {
      "cell_type": "code",
      "source": [
        "%cd /content\n",
        "!rm -rf entity-embedding-rossmann\n",
        "!git clone https://github.com/rivandaputra/Dataset-Obat-Entity-Matching.git"
      ],
      "metadata": {
        "colab": {
          "base_uri": "https://localhost:8080/"
        },
        "id": "uNbToaPophhn",
        "outputId": "740f2fc5-1b1b-44ae-cc07-5df636949253"
      },
      "execution_count": null,
      "outputs": [
        {
          "output_type": "stream",
          "name": "stdout",
          "text": [
            "/content\n",
            "Cloning into 'Dataset-Obat-Entity-Matching'...\n",
            "remote: Enumerating objects: 12, done.\u001b[K\n",
            "remote: Counting objects: 100% (1/1), done.\u001b[K\n",
            "remote: Total 12 (delta 0), reused 0 (delta 0), pack-reused 11\u001b[K\n",
            "Unpacking objects: 100% (12/12), 94.10 KiB | 3.04 MiB/s, done.\n"
          ]
        }
      ]
    },
    {
      "cell_type": "code",
      "source": [
        "src = \"Dataset-Obat-Entity-Matching\"\n",
        "%cd $src"
      ],
      "metadata": {
        "colab": {
          "base_uri": "https://localhost:8080/"
        },
        "id": "yC_CNlOhrKCT",
        "outputId": "c029a6b7-4b81-400b-fef0-93846e233a6b"
      },
      "execution_count": null,
      "outputs": [
        {
          "output_type": "stream",
          "name": "stdout",
          "text": [
            "/content/Dataset-Obat-Entity-Matching\n"
          ]
        }
      ]
    },
    {
      "cell_type": "code",
      "source": [
        "!python --version"
      ],
      "metadata": {
        "colab": {
          "base_uri": "https://localhost:8080/"
        },
        "id": "hETUIDoGrcnF",
        "outputId": "15bfc64f-f733-449b-c106-d7a410c716f7"
      },
      "execution_count": null,
      "outputs": [
        {
          "output_type": "stream",
          "name": "stdout",
          "text": [
            "Python 3.9.16\n"
          ]
        }
      ]
    },
    {
      "cell_type": "code",
      "metadata": {
        "id": "UcE2tXHeLODR",
        "colab": {
          "base_uri": "https://localhost:8080/"
        },
        "outputId": "3013a1b1-4e0e-440f-a3e3-2913fbc087a6"
      },
      "source": [
        "try:\n",
        "    import deepmatcher\n",
        "except:\n",
        "    !pip install -qqq deepmatcher"
      ],
      "execution_count": null,
      "outputs": [
        {
          "output_type": "stream",
          "name": "stdout",
          "text": [
            "\u001b[?25l     \u001b[90m━━━━━━━━━━━━━━━━━━━━━━━━━━━━━━━━━━━━━━━━\u001b[0m \u001b[32m0.0/51.0 kB\u001b[0m \u001b[31m?\u001b[0m eta \u001b[36m-:--:--\u001b[0m\r\u001b[2K     \u001b[90m━━━━━━━━━━━━━━━━━━━━━━━━━━━━━━━━━━━━━━━━\u001b[0m \u001b[32m51.0/51.0 kB\u001b[0m \u001b[31m3.5 MB/s\u001b[0m eta \u001b[36m0:00:00\u001b[0m\n",
            "\u001b[?25h  Preparing metadata (setup.py) ... \u001b[?25l\u001b[?25hdone\n",
            "\u001b[2K     \u001b[90m━━━━━━━━━━━━━━━━━━━━━━━━━━━━━━━━━━━━━━━━\u001b[0m \u001b[32m68.8/68.8 kB\u001b[0m \u001b[31m9.3 MB/s\u001b[0m eta \u001b[36m0:00:00\u001b[0m\n",
            "\u001b[?25h  Preparing metadata (setup.py) ... \u001b[?25l\u001b[?25hdone\n",
            "\u001b[2K     \u001b[90m━━━━━━━━━━━━━━━━━━━━━━━━━━━━━━━━━━━━━━\u001b[0m \u001b[32m110.5/110.5 kB\u001b[0m \u001b[31m13.0 MB/s\u001b[0m eta \u001b[36m0:00:00\u001b[0m\n",
            "\u001b[?25h  Building wheel for deepmatcher (setup.py) ... \u001b[?25l\u001b[?25hdone\n",
            "  Building wheel for fasttext (setup.py) ... \u001b[?25l\u001b[?25hdone\n"
          ]
        }
      ]
    },
    {
      "cell_type": "code",
      "metadata": {
        "colab": {
          "base_uri": "https://localhost:8080/"
        },
        "id": "kgBJKbJzLjyn",
        "outputId": "6a206aed-2443-4293-b834-b488ff9e7cd8"
      },
      "source": [
        "!pip install torch==1.8.0 torchtext==0.9.0 --extra-index-url https://download.pytorch.org/whl/cu101\n",
        "import deepmatcher as dm\n",
        "import torch\n",
        "import os\n",
        "\n",
        "torch.cuda.is_available()"
      ],
      "execution_count": null,
      "outputs": [
        {
          "output_type": "stream",
          "name": "stdout",
          "text": [
            "Looking in indexes: https://pypi.org/simple, https://us-python.pkg.dev/colab-wheels/public/simple/, https://download.pytorch.org/whl/cu101\n",
            "Collecting torch==1.8.0\n",
            "  Downloading https://download.pytorch.org/whl/cu101/torch-1.8.0%2Bcu101-cp39-cp39-linux_x86_64.whl (763.6 MB)\n",
            "\u001b[2K     \u001b[90m━━━━━━━━━━━━━━━━━━━━━━━━━━━━━━━━━━━━━━━\u001b[0m \u001b[32m763.6/763.6 MB\u001b[0m \u001b[31m2.1 MB/s\u001b[0m eta \u001b[36m0:00:00\u001b[0m\n",
            "\u001b[?25hCollecting torchtext==0.9.0\n",
            "  Downloading torchtext-0.9.0-cp39-cp39-manylinux1_x86_64.whl (7.0 MB)\n",
            "\u001b[2K     \u001b[90m━━━━━━━━━━━━━━━━━━━━━━━━━━━━━━━━━━━━━━━━\u001b[0m \u001b[32m7.0/7.0 MB\u001b[0m \u001b[31m12.8 MB/s\u001b[0m eta \u001b[36m0:00:00\u001b[0m\n",
            "\u001b[?25hRequirement already satisfied: numpy in /usr/local/lib/python3.9/dist-packages (from torch==1.8.0) (1.22.4)\n",
            "Requirement already satisfied: typing-extensions in /usr/local/lib/python3.9/dist-packages (from torch==1.8.0) (4.5.0)\n",
            "Requirement already satisfied: requests in /usr/local/lib/python3.9/dist-packages (from torchtext==0.9.0) (2.27.1)\n",
            "Requirement already satisfied: tqdm in /usr/local/lib/python3.9/dist-packages (from torchtext==0.9.0) (4.65.0)\n",
            "Requirement already satisfied: certifi>=2017.4.17 in /usr/local/lib/python3.9/dist-packages (from requests->torchtext==0.9.0) (2022.12.7)\n",
            "Requirement already satisfied: urllib3<1.27,>=1.21.1 in /usr/local/lib/python3.9/dist-packages (from requests->torchtext==0.9.0) (1.26.15)\n",
            "Requirement already satisfied: idna<4,>=2.5 in /usr/local/lib/python3.9/dist-packages (from requests->torchtext==0.9.0) (3.4)\n",
            "Requirement already satisfied: charset-normalizer~=2.0.0 in /usr/local/lib/python3.9/dist-packages (from requests->torchtext==0.9.0) (2.0.12)\n",
            "Installing collected packages: torch, torchtext\n",
            "  Attempting uninstall: torch\n",
            "    Found existing installation: torch 2.0.0+cu118\n",
            "    Uninstalling torch-2.0.0+cu118:\n",
            "      Successfully uninstalled torch-2.0.0+cu118\n",
            "  Attempting uninstall: torchtext\n",
            "    Found existing installation: torchtext 0.15.1\n",
            "    Uninstalling torchtext-0.15.1:\n",
            "      Successfully uninstalled torchtext-0.15.1\n",
            "\u001b[31mERROR: pip's dependency resolver does not currently take into account all the packages that are installed. This behaviour is the source of the following dependency conflicts.\n",
            "torchvision 0.15.1+cu118 requires torch==2.0.0, but you have torch 1.8.0+cu101 which is incompatible.\n",
            "torchdata 0.6.0 requires torch==2.0.0, but you have torch 1.8.0+cu101 which is incompatible.\n",
            "torchaudio 2.0.1+cu118 requires torch==2.0.0, but you have torch 1.8.0+cu101 which is incompatible.\u001b[0m\u001b[31m\n",
            "\u001b[0mSuccessfully installed torch-1.8.0+cu101 torchtext-0.9.0\n"
          ]
        },
        {
          "output_type": "execute_result",
          "data": {
            "text/plain": [
              "False"
            ]
          },
          "metadata": {},
          "execution_count": 3
        }
      ]
    },
    {
      "cell_type": "code",
      "source": [
        "!wget https://dl.fbaipublicfiles.com/fasttext/vectors-wiki/wiki.en.zip --directory-prefix=/root/.vector_cache\n",
        "!unzip /root/.vector_cache/wiki.en.zip -d /root/.vector_cache/\n",
        "!rm /root/.vector_cache/wiki.en.vec"
      ],
      "metadata": {
        "colab": {
          "base_uri": "https://localhost:8080/"
        },
        "id": "kYKi3kn4wEoi",
        "outputId": "2de31a56-ef2c-4a94-8520-3bc8ed94c098"
      },
      "execution_count": null,
      "outputs": [
        {
          "output_type": "stream",
          "name": "stdout",
          "text": [
            "--2023-05-29 17:52:31--  https://dl.fbaipublicfiles.com/fasttext/vectors-wiki/wiki.en.zip\n",
            "Resolving dl.fbaipublicfiles.com (dl.fbaipublicfiles.com)... 13.226.210.15, 13.226.210.25, 13.226.210.78, ...\n",
            "Connecting to dl.fbaipublicfiles.com (dl.fbaipublicfiles.com)|13.226.210.15|:443... connected.\n",
            "HTTP request sent, awaiting response... 200 OK\n",
            "Length: 10356881291 (9.6G) [application/zip]\n",
            "Saving to: ‘/root/.vector_cache/wiki.en.zip’\n",
            "\n",
            "wiki.en.zip         100%[===================>]   9.65G   192MB/s    in 78s     \n",
            "\n",
            "2023-05-29 17:53:49 (126 MB/s) - ‘/root/.vector_cache/wiki.en.zip’ saved [10356881291/10356881291]\n",
            "\n",
            "Archive:  /root/.vector_cache/wiki.en.zip\n",
            "  inflating: /root/.vector_cache/wiki.en.vec  \n",
            "  inflating: /root/.vector_cache/wiki.en.bin  \n"
          ]
        }
      ]
    },
    {
      "cell_type": "code",
      "metadata": {
        "id": "tNr8wGZVLptm",
        "colab": {
          "base_uri": "https://localhost:8080/",
          "height": 373
        },
        "outputId": "183593bf-3e09-46ec-d41b-bb308e1e383b"
      },
      "source": [
        "train, validation, test = dm.data.process(\n",
        "    path=os.path.join('.'),\n",
        "    cache='train_cache.pth',\n",
        "    train='train.csv',\n",
        "    validation='valid.csv',\n",
        "    test='test.csv',\n",
        "    use_magellan_convention=True,\n",
        "    ignore_columns=('ltable_id', 'rtable_id'))"
      ],
      "execution_count": null,
      "outputs": [
        {
          "output_type": "error",
          "ename": "FileNotFoundError",
          "evalue": "ignored",
          "traceback": [
            "\u001b[0;31m---------------------------------------------------------------------------\u001b[0m",
            "\u001b[0;31mFileNotFoundError\u001b[0m                         Traceback (most recent call last)",
            "\u001b[0;32m<ipython-input-5-dcaaaf3228c3>\u001b[0m in \u001b[0;36m<cell line: 1>\u001b[0;34m()\u001b[0m\n\u001b[0;32m----> 1\u001b[0;31m train, validation, test = dm.data.process(\n\u001b[0m\u001b[1;32m      2\u001b[0m     \u001b[0mpath\u001b[0m\u001b[0;34m=\u001b[0m\u001b[0mos\u001b[0m\u001b[0;34m.\u001b[0m\u001b[0mpath\u001b[0m\u001b[0;34m.\u001b[0m\u001b[0mjoin\u001b[0m\u001b[0;34m(\u001b[0m\u001b[0;34m'.'\u001b[0m\u001b[0;34m)\u001b[0m\u001b[0;34m,\u001b[0m\u001b[0;34m\u001b[0m\u001b[0;34m\u001b[0m\u001b[0m\n\u001b[1;32m      3\u001b[0m     \u001b[0mcache\u001b[0m\u001b[0;34m=\u001b[0m\u001b[0;34m'train_cache.pth'\u001b[0m\u001b[0;34m,\u001b[0m\u001b[0;34m\u001b[0m\u001b[0;34m\u001b[0m\u001b[0m\n\u001b[1;32m      4\u001b[0m     \u001b[0mtrain\u001b[0m\u001b[0;34m=\u001b[0m\u001b[0;34m'train.csv'\u001b[0m\u001b[0;34m,\u001b[0m\u001b[0;34m\u001b[0m\u001b[0;34m\u001b[0m\u001b[0m\n\u001b[1;32m      5\u001b[0m     \u001b[0mvalidation\u001b[0m\u001b[0;34m=\u001b[0m\u001b[0;34m'valid.csv'\u001b[0m\u001b[0;34m,\u001b[0m\u001b[0;34m\u001b[0m\u001b[0;34m\u001b[0m\u001b[0m\n",
            "\u001b[0;32m/usr/local/lib/python3.9/dist-packages/deepmatcher/data/process.py\u001b[0m in \u001b[0;36mprocess\u001b[0;34m(path, train, validation, test, unlabeled, cache, check_cached_data, auto_rebuild_cache, tokenize, lowercase, embeddings, embeddings_cache_path, ignore_columns, include_lengths, id_attr, label_attr, left_prefix, right_prefix, use_magellan_convention, pca)\u001b[0m\n\u001b[1;32m    191\u001b[0m     \u001b[0;31m# TODO(Sid): check for all datasets to make sure the files exist and have the same schema\u001b[0m\u001b[0;34m\u001b[0m\u001b[0;34m\u001b[0m\u001b[0m\n\u001b[1;32m    192\u001b[0m     \u001b[0ma_dataset\u001b[0m \u001b[0;34m=\u001b[0m \u001b[0mtrain\u001b[0m \u001b[0;32mor\u001b[0m \u001b[0mvalidation\u001b[0m \u001b[0;32mor\u001b[0m \u001b[0mtest\u001b[0m\u001b[0;34m\u001b[0m\u001b[0;34m\u001b[0m\u001b[0m\n\u001b[0;32m--> 193\u001b[0;31m     \u001b[0;32mwith\u001b[0m \u001b[0mio\u001b[0m\u001b[0;34m.\u001b[0m\u001b[0mopen\u001b[0m\u001b[0;34m(\u001b[0m\u001b[0mos\u001b[0m\u001b[0;34m.\u001b[0m\u001b[0mpath\u001b[0m\u001b[0;34m.\u001b[0m\u001b[0mexpanduser\u001b[0m\u001b[0;34m(\u001b[0m\u001b[0mos\u001b[0m\u001b[0;34m.\u001b[0m\u001b[0mpath\u001b[0m\u001b[0;34m.\u001b[0m\u001b[0mjoin\u001b[0m\u001b[0;34m(\u001b[0m\u001b[0mpath\u001b[0m\u001b[0;34m,\u001b[0m \u001b[0ma_dataset\u001b[0m\u001b[0;34m)\u001b[0m\u001b[0;34m)\u001b[0m\u001b[0;34m,\u001b[0m \u001b[0mencoding\u001b[0m\u001b[0;34m=\u001b[0m\u001b[0;34m\"utf8\"\u001b[0m\u001b[0;34m)\u001b[0m \u001b[0;32mas\u001b[0m \u001b[0mf\u001b[0m\u001b[0;34m:\u001b[0m\u001b[0;34m\u001b[0m\u001b[0;34m\u001b[0m\u001b[0m\n\u001b[0m\u001b[1;32m    194\u001b[0m         \u001b[0mheader\u001b[0m \u001b[0;34m=\u001b[0m \u001b[0mnext\u001b[0m\u001b[0;34m(\u001b[0m\u001b[0municode_csv_reader\u001b[0m\u001b[0;34m(\u001b[0m\u001b[0mf\u001b[0m\u001b[0;34m)\u001b[0m\u001b[0;34m)\u001b[0m\u001b[0;34m\u001b[0m\u001b[0;34m\u001b[0m\u001b[0m\n\u001b[1;32m    195\u001b[0m \u001b[0;34m\u001b[0m\u001b[0m\n",
            "\u001b[0;31mFileNotFoundError\u001b[0m: [Errno 2] No such file or directory: './train.csv'"
          ]
        }
      ]
    },
    {
      "cell_type": "code",
      "metadata": {
        "colab": {
          "base_uri": "https://localhost:8080/",
          "height": 548
        },
        "id": "z9DGVMdiNMPW",
        "outputId": "68a9e909-a2e3-4f2e-ee5d-52449077eed4"
      },
      "source": [
        "train_table = train.get_raw_table()\n",
        "train_table.head()"
      ],
      "execution_count": null,
      "outputs": [
        {
          "output_type": "execute_result",
          "data": {
            "text/plain": [
              "   _id  label                       ltable_produk_name ltable_produk_harga  \\\n",
              "0  340      0            ciprofloxacin 500 mg tab hexp              rp 600   \n",
              "1   30      0  obh combi batuk plus flu menthol 100 ml           rp 18,700   \n",
              "2   19      1   obh combi batuk plus flu menthol 60 ml           rp 13,500   \n",
              "3  212      0               flagyl oral suspensi 60 ml           rp 77,000   \n",
              "4  124      0                sanadryl dmp sirup 120 ml           rp 26,600   \n",
              "\n",
              "  ltable_produk_satuan                                   ltable_deskripsi  \\\n",
              "0               tablet  ciprofloxacin adalah obat yang masuk dalam kat...   \n",
              "1                botol  obh combi adalah obat minum dalam bentuk sirup...   \n",
              "2                botol  obh combi adalah obat minum dalam bentuk sirup...   \n",
              "3                botol  flagyl merupakan obat yang mengandung antibiot...   \n",
              "4                botol  sanadryl dmp adalah obat untuk mengatasi batuk...   \n",
              "\n",
              "                                     ltable_indikasi  \\\n",
              "0  infeksi saluran pernafasan , infeksi jaringan ...   \n",
              "1  meredakan batuk yang disertai gejala-gejala fl...   \n",
              "2  meredakan batuk yang disertai gejala-gejala fl...   \n",
              "3  pengobatan uretritis , vaginitis karena parasi...   \n",
              "4               meredakan batuk kering akibat alergi   \n",
              "\n",
              "                                    ltable_komposisi  \\\n",
              "0                               ciprofloxacin 500 mg   \n",
              "1  succus liquiritiae 167 mg/5ml , paracetamol 15...   \n",
              "2  succus liquiritiae 167 mg/5ml , paracetamol 15...   \n",
              "3                   tiap 5 ml : metronidazole 125 mg   \n",
              "4  dextromethorphan hbr 10 mg/5ml , diphenhydrami...   \n",
              "\n",
              "                                        ltable_dosis  \\\n",
              "0                                                      \n",
              "1                                                      \n",
              "2                                                      \n",
              "3  usus amoebiasis : 750 mg , tiga kali sehari se...   \n",
              "4                                                      \n",
              "\n",
              "                     rtable_produk_name rtable_produk_harga  \\\n",
              "0        ciprofloxacin kf 500mg tab 50s              rp 768   \n",
              "1  obh combi dewasa batuk flu madu 60ml           rp 13.979   \n",
              "2  obh combi dewasa batuk flu jahe 60ml           rp 13.867   \n",
              "3         allerin ekspektoran syr 60 ml           rp 14.340   \n",
              "4        sanaflu plus batuk sirup 60 ml           rp 11.817   \n",
              "\n",
              "  rtable_produk_satuan                                   rtable_deskripsi  \\\n",
              "0               tablet  ciprofloxacin kf 500mg tab digunakan untuk men...   \n",
              "1                botol  obh combi batuk flu merupakan obat batuk pilek...   \n",
              "2                botol  obh combi batuk flu merupakan obat batuk pilek...   \n",
              "3                botol  mengatasi batuk berdahak karena adanya iritasi...   \n",
              "4                botol  sanaflu plus batuk syrup merupakan produk obat...   \n",
              "\n",
              "                                     rtable_indikasi  \\\n",
              "0  infeksi saluran kemih , infeksi saluran pernaf...   \n",
              "1  meredakan batuk yang disertai gejala-gejala fl...   \n",
              "2  meredakan batuk yang disertai gejala-gejala fl...   \n",
              "3  batuk berdahak karena adanya iritasi , alergi ...   \n",
              "4                          influenza , demam , pilek   \n",
              "\n",
              "                                    rtable_komposisi  \\\n",
              "0                               ciprofloxacin 500 mg   \n",
              "1  succus liquiritiae extract 167 mg , paracetamo...   \n",
              "2  succus liquiritiae extract 167 mg , paracetamo...   \n",
              "3  gliserilguaiakolat 50 mg , na-sitrat 180 mg , ...   \n",
              "4  per 5 ml : paracetamol 120 mg , dextromethorph...   \n",
              "\n",
              "                                        rtable_dosis  \n",
              "0  infeksi saluran kemih ( isk ) : ringan - sedan...  \n",
              "1  > 12 thn : sehari , 3 x 3 sendok takar ( @ 5 ml )  \n",
              "2  dewasa dan anak > 12 thn : 3 kali sehari 3 sen...  \n",
              "3  dewasa 1â½-2 sdt 3-4 kali per hari anak 7-12 t...  \n",
              "4  dewasa : 3-4 kali sehari 4 sendok takar ( 20 m...  "
            ],
            "text/html": [
              "\n",
              "  <div id=\"df-eadeba41-0d28-48ce-85cf-4d190b4dc061\">\n",
              "    <div class=\"colab-df-container\">\n",
              "      <div>\n",
              "<style scoped>\n",
              "    .dataframe tbody tr th:only-of-type {\n",
              "        vertical-align: middle;\n",
              "    }\n",
              "\n",
              "    .dataframe tbody tr th {\n",
              "        vertical-align: top;\n",
              "    }\n",
              "\n",
              "    .dataframe thead th {\n",
              "        text-align: right;\n",
              "    }\n",
              "</style>\n",
              "<table border=\"1\" class=\"dataframe\">\n",
              "  <thead>\n",
              "    <tr style=\"text-align: right;\">\n",
              "      <th></th>\n",
              "      <th>_id</th>\n",
              "      <th>label</th>\n",
              "      <th>ltable_produk_name</th>\n",
              "      <th>ltable_produk_harga</th>\n",
              "      <th>ltable_produk_satuan</th>\n",
              "      <th>ltable_deskripsi</th>\n",
              "      <th>ltable_indikasi</th>\n",
              "      <th>ltable_komposisi</th>\n",
              "      <th>ltable_dosis</th>\n",
              "      <th>rtable_produk_name</th>\n",
              "      <th>rtable_produk_harga</th>\n",
              "      <th>rtable_produk_satuan</th>\n",
              "      <th>rtable_deskripsi</th>\n",
              "      <th>rtable_indikasi</th>\n",
              "      <th>rtable_komposisi</th>\n",
              "      <th>rtable_dosis</th>\n",
              "    </tr>\n",
              "  </thead>\n",
              "  <tbody>\n",
              "    <tr>\n",
              "      <th>0</th>\n",
              "      <td>340</td>\n",
              "      <td>0</td>\n",
              "      <td>ciprofloxacin 500 mg tab hexp</td>\n",
              "      <td>rp 600</td>\n",
              "      <td>tablet</td>\n",
              "      <td>ciprofloxacin adalah obat yang masuk dalam kat...</td>\n",
              "      <td>infeksi saluran pernafasan , infeksi jaringan ...</td>\n",
              "      <td>ciprofloxacin 500 mg</td>\n",
              "      <td></td>\n",
              "      <td>ciprofloxacin kf 500mg tab 50s</td>\n",
              "      <td>rp 768</td>\n",
              "      <td>tablet</td>\n",
              "      <td>ciprofloxacin kf 500mg tab digunakan untuk men...</td>\n",
              "      <td>infeksi saluran kemih , infeksi saluran pernaf...</td>\n",
              "      <td>ciprofloxacin 500 mg</td>\n",
              "      <td>infeksi saluran kemih ( isk ) : ringan - sedan...</td>\n",
              "    </tr>\n",
              "    <tr>\n",
              "      <th>1</th>\n",
              "      <td>30</td>\n",
              "      <td>0</td>\n",
              "      <td>obh combi batuk plus flu menthol 100 ml</td>\n",
              "      <td>rp 18,700</td>\n",
              "      <td>botol</td>\n",
              "      <td>obh combi adalah obat minum dalam bentuk sirup...</td>\n",
              "      <td>meredakan batuk yang disertai gejala-gejala fl...</td>\n",
              "      <td>succus liquiritiae 167 mg/5ml , paracetamol 15...</td>\n",
              "      <td></td>\n",
              "      <td>obh combi dewasa batuk flu madu 60ml</td>\n",
              "      <td>rp 13.979</td>\n",
              "      <td>botol</td>\n",
              "      <td>obh combi batuk flu merupakan obat batuk pilek...</td>\n",
              "      <td>meredakan batuk yang disertai gejala-gejala fl...</td>\n",
              "      <td>succus liquiritiae extract 167 mg , paracetamo...</td>\n",
              "      <td>&gt; 12 thn : sehari , 3 x 3 sendok takar ( @ 5 ml )</td>\n",
              "    </tr>\n",
              "    <tr>\n",
              "      <th>2</th>\n",
              "      <td>19</td>\n",
              "      <td>1</td>\n",
              "      <td>obh combi batuk plus flu menthol 60 ml</td>\n",
              "      <td>rp 13,500</td>\n",
              "      <td>botol</td>\n",
              "      <td>obh combi adalah obat minum dalam bentuk sirup...</td>\n",
              "      <td>meredakan batuk yang disertai gejala-gejala fl...</td>\n",
              "      <td>succus liquiritiae 167 mg/5ml , paracetamol 15...</td>\n",
              "      <td></td>\n",
              "      <td>obh combi dewasa batuk flu jahe 60ml</td>\n",
              "      <td>rp 13.867</td>\n",
              "      <td>botol</td>\n",
              "      <td>obh combi batuk flu merupakan obat batuk pilek...</td>\n",
              "      <td>meredakan batuk yang disertai gejala-gejala fl...</td>\n",
              "      <td>succus liquiritiae extract 167 mg , paracetamo...</td>\n",
              "      <td>dewasa dan anak &gt; 12 thn : 3 kali sehari 3 sen...</td>\n",
              "    </tr>\n",
              "    <tr>\n",
              "      <th>3</th>\n",
              "      <td>212</td>\n",
              "      <td>0</td>\n",
              "      <td>flagyl oral suspensi 60 ml</td>\n",
              "      <td>rp 77,000</td>\n",
              "      <td>botol</td>\n",
              "      <td>flagyl merupakan obat yang mengandung antibiot...</td>\n",
              "      <td>pengobatan uretritis , vaginitis karena parasi...</td>\n",
              "      <td>tiap 5 ml : metronidazole 125 mg</td>\n",
              "      <td>usus amoebiasis : 750 mg , tiga kali sehari se...</td>\n",
              "      <td>allerin ekspektoran syr 60 ml</td>\n",
              "      <td>rp 14.340</td>\n",
              "      <td>botol</td>\n",
              "      <td>mengatasi batuk berdahak karena adanya iritasi...</td>\n",
              "      <td>batuk berdahak karena adanya iritasi , alergi ...</td>\n",
              "      <td>gliserilguaiakolat 50 mg , na-sitrat 180 mg , ...</td>\n",
              "      <td>dewasa 1â½-2 sdt 3-4 kali per hari anak 7-12 t...</td>\n",
              "    </tr>\n",
              "    <tr>\n",
              "      <th>4</th>\n",
              "      <td>124</td>\n",
              "      <td>0</td>\n",
              "      <td>sanadryl dmp sirup 120 ml</td>\n",
              "      <td>rp 26,600</td>\n",
              "      <td>botol</td>\n",
              "      <td>sanadryl dmp adalah obat untuk mengatasi batuk...</td>\n",
              "      <td>meredakan batuk kering akibat alergi</td>\n",
              "      <td>dextromethorphan hbr 10 mg/5ml , diphenhydrami...</td>\n",
              "      <td></td>\n",
              "      <td>sanaflu plus batuk sirup 60 ml</td>\n",
              "      <td>rp 11.817</td>\n",
              "      <td>botol</td>\n",
              "      <td>sanaflu plus batuk syrup merupakan produk obat...</td>\n",
              "      <td>influenza , demam , pilek</td>\n",
              "      <td>per 5 ml : paracetamol 120 mg , dextromethorph...</td>\n",
              "      <td>dewasa : 3-4 kali sehari 4 sendok takar ( 20 m...</td>\n",
              "    </tr>\n",
              "  </tbody>\n",
              "</table>\n",
              "</div>\n",
              "      <button class=\"colab-df-convert\" onclick=\"convertToInteractive('df-eadeba41-0d28-48ce-85cf-4d190b4dc061')\"\n",
              "              title=\"Convert this dataframe to an interactive table.\"\n",
              "              style=\"display:none;\">\n",
              "        \n",
              "  <svg xmlns=\"http://www.w3.org/2000/svg\" height=\"24px\"viewBox=\"0 0 24 24\"\n",
              "       width=\"24px\">\n",
              "    <path d=\"M0 0h24v24H0V0z\" fill=\"none\"/>\n",
              "    <path d=\"M18.56 5.44l.94 2.06.94-2.06 2.06-.94-2.06-.94-.94-2.06-.94 2.06-2.06.94zm-11 1L8.5 8.5l.94-2.06 2.06-.94-2.06-.94L8.5 2.5l-.94 2.06-2.06.94zm10 10l.94 2.06.94-2.06 2.06-.94-2.06-.94-.94-2.06-.94 2.06-2.06.94z\"/><path d=\"M17.41 7.96l-1.37-1.37c-.4-.4-.92-.59-1.43-.59-.52 0-1.04.2-1.43.59L10.3 9.45l-7.72 7.72c-.78.78-.78 2.05 0 2.83L4 21.41c.39.39.9.59 1.41.59.51 0 1.02-.2 1.41-.59l7.78-7.78 2.81-2.81c.8-.78.8-2.07 0-2.86zM5.41 20L4 18.59l7.72-7.72 1.47 1.35L5.41 20z\"/>\n",
              "  </svg>\n",
              "      </button>\n",
              "      \n",
              "  <style>\n",
              "    .colab-df-container {\n",
              "      display:flex;\n",
              "      flex-wrap:wrap;\n",
              "      gap: 12px;\n",
              "    }\n",
              "\n",
              "    .colab-df-convert {\n",
              "      background-color: #E8F0FE;\n",
              "      border: none;\n",
              "      border-radius: 50%;\n",
              "      cursor: pointer;\n",
              "      display: none;\n",
              "      fill: #1967D2;\n",
              "      height: 32px;\n",
              "      padding: 0 0 0 0;\n",
              "      width: 32px;\n",
              "    }\n",
              "\n",
              "    .colab-df-convert:hover {\n",
              "      background-color: #E2EBFA;\n",
              "      box-shadow: 0px 1px 2px rgba(60, 64, 67, 0.3), 0px 1px 3px 1px rgba(60, 64, 67, 0.15);\n",
              "      fill: #174EA6;\n",
              "    }\n",
              "\n",
              "    [theme=dark] .colab-df-convert {\n",
              "      background-color: #3B4455;\n",
              "      fill: #D2E3FC;\n",
              "    }\n",
              "\n",
              "    [theme=dark] .colab-df-convert:hover {\n",
              "      background-color: #434B5C;\n",
              "      box-shadow: 0px 1px 3px 1px rgba(0, 0, 0, 0.15);\n",
              "      filter: drop-shadow(0px 1px 2px rgba(0, 0, 0, 0.3));\n",
              "      fill: #FFFFFF;\n",
              "    }\n",
              "  </style>\n",
              "\n",
              "      <script>\n",
              "        const buttonEl =\n",
              "          document.querySelector('#df-eadeba41-0d28-48ce-85cf-4d190b4dc061 button.colab-df-convert');\n",
              "        buttonEl.style.display =\n",
              "          google.colab.kernel.accessAllowed ? 'block' : 'none';\n",
              "\n",
              "        async function convertToInteractive(key) {\n",
              "          const element = document.querySelector('#df-eadeba41-0d28-48ce-85cf-4d190b4dc061');\n",
              "          const dataTable =\n",
              "            await google.colab.kernel.invokeFunction('convertToInteractive',\n",
              "                                                     [key], {});\n",
              "          if (!dataTable) return;\n",
              "\n",
              "          const docLinkHtml = 'Like what you see? Visit the ' +\n",
              "            '<a target=\"_blank\" href=https://colab.research.google.com/notebooks/data_table.ipynb>data table notebook</a>'\n",
              "            + ' to learn more about interactive tables.';\n",
              "          element.innerHTML = '';\n",
              "          dataTable['output_type'] = 'display_data';\n",
              "          await google.colab.output.renderOutput(dataTable, element);\n",
              "          const docLink = document.createElement('div');\n",
              "          docLink.innerHTML = docLinkHtml;\n",
              "          element.appendChild(docLink);\n",
              "        }\n",
              "      </script>\n",
              "    </div>\n",
              "  </div>\n",
              "  "
            ]
          },
          "metadata": {},
          "execution_count": 10
        }
      ]
    },
    {
      "cell_type": "code",
      "metadata": {
        "colab": {
          "base_uri": "https://localhost:8080/"
        },
        "id": "tDAvFSG7NfiQ",
        "outputId": "4452939f-f334-4931-d0d5-c11b9be4f6b8"
      },
      "source": [
        "model = dm.MatchingModel(attr_summarizer='hybrid')\n",
        "\n",
        "model.run_train(\n",
        "    train,\n",
        "    validation,\n",
        "    epochs=10,\n",
        "    batch_size=16,\n",
        "    best_save_path='hybrid_model.pth',\n",
        "    pos_neg_ratio=17)"
      ],
      "execution_count": null,
      "outputs": [
        {
          "output_type": "stream",
          "name": "stderr",
          "text": [
            "/usr/local/lib/python3.9/dist-packages/torch/nn/modules/module.py:770: UserWarning: Using non-full backward hooks on a Module that does not take as input a single Tensor or a tuple of Tensors is deprecated and will be removed in future versions. This hook will be missing some of the grad_input. Please use register_full_backward_hook to get the documented behavior.\n",
            "  warnings.warn(\"Using non-full backward hooks on a Module that does not take as input a \"\n",
            "/usr/local/lib/python3.9/dist-packages/torch/nn/modules/module.py:795: UserWarning: Using a non-full backward hook when the forward contains multiple autograd Nodes is deprecated and will be removed in future versions. This hook will be missing some grad_input. Please use register_full_backward_hook to get the documented behavior.\n",
            "  warnings.warn(\"Using a non-full backward hook when the forward contains multiple autograd Nodes \"\n"
          ]
        },
        {
          "output_type": "stream",
          "name": "stdout",
          "text": [
            "* Number of trainable parameters: 15560809\n",
            "===>  TRAIN Epoch 1\n"
          ]
        },
        {
          "output_type": "stream",
          "name": "stderr",
          "text": [
            "/usr/local/lib/python3.9/dist-packages/torch/nn/modules/module.py:760: UserWarning: Using non-full backward hooks on a Module that does not return a single Tensor or a tuple of Tensors is deprecated and will be removed in future versions. This hook will be missing some of the grad_output. Please use register_full_backward_hook to get the documented behavior.\n",
            "  warnings.warn(\"Using non-full backward hooks on a Module that does not return a \"\n",
            "/usr/local/lib/python3.9/dist-packages/torch/nn/functional.py:2607: UserWarning: reduction: 'mean' divides the total loss by both the batch size and the support size.'batchmean' divides only by the batch size, and aligns with the KL div math definition.'mean' will be changed to behave the same as 'batchmean' in the next major release.\n",
            "  warnings.warn(\n",
            "0% [███] 100% | ETA: 00:00:00\n",
            "Total time elapsed: 00:02:02\n"
          ]
        },
        {
          "output_type": "stream",
          "name": "stdout",
          "text": [
            "Finished Epoch 1 || Run Time:  145.4 | Load Time:    0.4 || F1:  10.53 | Prec:   5.73 | Rec:  64.29 || Ex/s:   1.80\n",
            "\n",
            "===>  EVAL Epoch 1\n"
          ]
        },
        {
          "output_type": "stream",
          "name": "stderr",
          "text": [
            "0% [█] 100% | ETA: 00:00:00\n",
            "Total time elapsed: 00:00:15\n"
          ]
        },
        {
          "output_type": "stream",
          "name": "stdout",
          "text": [
            "Finished Epoch 1 || Run Time:   16.5 | Load Time:    0.1 || F1:  10.87 | Prec:   5.75 | Rec: 100.00 || Ex/s:   5.26\n",
            "\n",
            "* Best F1: tensor(10.8696)\n",
            "Saving best model...\n",
            "Done.\n",
            "---------------------\n",
            "\n",
            "===>  TRAIN Epoch 2\n"
          ]
        },
        {
          "output_type": "stream",
          "name": "stderr",
          "text": [
            "0% [███] 100% | ETA: 00:00:00\n",
            "Total time elapsed: 00:02:02\n"
          ]
        },
        {
          "output_type": "stream",
          "name": "stdout",
          "text": [
            "Finished Epoch 2 || Run Time:  145.4 | Load Time:    0.4 || F1:  10.14 | Prec:   5.34 | Rec: 100.00 || Ex/s:   1.80\n",
            "\n",
            "===>  EVAL Epoch 2\n"
          ]
        },
        {
          "output_type": "stream",
          "name": "stderr",
          "text": [
            "0% [█] 100% | ETA: 00:00:00\n",
            "Total time elapsed: 00:00:14\n"
          ]
        },
        {
          "output_type": "stream",
          "name": "stdout",
          "text": [
            "Finished Epoch 2 || Run Time:   15.8 | Load Time:    0.1 || F1:  11.11 | Prec:   5.88 | Rec: 100.00 || Ex/s:   5.49\n",
            "\n",
            "* Best F1: tensor(11.1111)\n",
            "Saving best model...\n",
            "Done.\n",
            "---------------------\n",
            "\n",
            "===>  TRAIN Epoch 3\n"
          ]
        },
        {
          "output_type": "stream",
          "name": "stderr",
          "text": [
            "0% [███] 100% | ETA: 00:00:00\n",
            "Total time elapsed: 00:02:02\n"
          ]
        },
        {
          "output_type": "stream",
          "name": "stdout",
          "text": [
            "Finished Epoch 3 || Run Time:  144.4 | Load Time:    0.3 || F1:  10.98 | Prec:   5.81 | Rec: 100.00 || Ex/s:   1.81\n",
            "\n",
            "===>  EVAL Epoch 3\n"
          ]
        },
        {
          "output_type": "stream",
          "name": "stderr",
          "text": [
            "0% [█] 100% | ETA: 00:00:00\n",
            "Total time elapsed: 00:00:15\n"
          ]
        },
        {
          "output_type": "stream",
          "name": "stdout",
          "text": [
            "Finished Epoch 3 || Run Time:   16.8 | Load Time:    0.1 || F1:  10.87 | Prec:   5.75 | Rec: 100.00 || Ex/s:   5.16\n",
            "\n",
            "---------------------\n",
            "\n",
            "===>  TRAIN Epoch 4\n"
          ]
        },
        {
          "output_type": "stream",
          "name": "stderr",
          "text": [
            "0% [███] 100% | ETA: 00:00:00\n",
            "Total time elapsed: 00:02:02\n"
          ]
        },
        {
          "output_type": "stream",
          "name": "stdout",
          "text": [
            "Finished Epoch 4 || Run Time:  145.5 | Load Time:    0.4 || F1:  10.29 | Prec:   5.43 | Rec: 100.00 || Ex/s:   1.80\n",
            "\n",
            "===>  EVAL Epoch 4\n"
          ]
        },
        {
          "output_type": "stream",
          "name": "stderr",
          "text": [
            "0% [█] 100% | ETA: 00:00:00\n",
            "Total time elapsed: 00:00:14\n"
          ]
        },
        {
          "output_type": "stream",
          "name": "stdout",
          "text": [
            "Finished Epoch 4 || Run Time:   15.9 | Load Time:    0.1 || F1:  14.49 | Prec:   7.81 | Rec: 100.00 || Ex/s:   5.45\n",
            "\n",
            "* Best F1: tensor(14.4928)\n",
            "Saving best model...\n",
            "Done.\n",
            "---------------------\n",
            "\n",
            "===>  TRAIN Epoch 5\n"
          ]
        },
        {
          "output_type": "stream",
          "name": "stderr",
          "text": [
            "0% [███] 100% | ETA: 00:00:00\n",
            "Total time elapsed: 00:02:02\n"
          ]
        },
        {
          "output_type": "stream",
          "name": "stdout",
          "text": [
            "Finished Epoch 5 || Run Time:  144.5 | Load Time:    0.4 || F1:  15.82 | Prec:   8.59 | Rec: 100.00 || Ex/s:   1.81\n",
            "\n",
            "===>  EVAL Epoch 5\n"
          ]
        },
        {
          "output_type": "stream",
          "name": "stderr",
          "text": [
            "0% [█] 100% | ETA: 00:00:00\n",
            "Total time elapsed: 00:00:15\n"
          ]
        },
        {
          "output_type": "stream",
          "name": "stdout",
          "text": [
            "Finished Epoch 5 || Run Time:   17.0 | Load Time:    0.1 || F1:  18.18 | Prec:  10.00 | Rec: 100.00 || Ex/s:   5.10\n",
            "\n",
            "* Best F1: tensor(18.1818)\n",
            "Saving best model...\n",
            "Done.\n",
            "---------------------\n",
            "\n",
            "===>  TRAIN Epoch 6\n"
          ]
        },
        {
          "output_type": "stream",
          "name": "stderr",
          "text": [
            "0% [███] 100% | ETA: 00:00:00\n",
            "Total time elapsed: 00:02:01\n"
          ]
        },
        {
          "output_type": "stream",
          "name": "stdout",
          "text": [
            "Finished Epoch 6 || Run Time:  144.7 | Load Time:    0.3 || F1:  17.83 | Prec:   9.79 | Rec: 100.00 || Ex/s:   1.81\n",
            "\n",
            "===>  EVAL Epoch 6\n"
          ]
        },
        {
          "output_type": "stream",
          "name": "stderr",
          "text": [
            "0% [█] 100% | ETA: 00:00:00\n",
            "Total time elapsed: 00:00:15\n"
          ]
        },
        {
          "output_type": "stream",
          "name": "stdout",
          "text": [
            "Finished Epoch 6 || Run Time:   16.1 | Load Time:    0.1 || F1:  21.74 | Prec:  12.20 | Rec: 100.00 || Ex/s:   5.37\n",
            "\n",
            "* Best F1: tensor(21.7391)\n",
            "Saving best model...\n",
            "Done.\n",
            "---------------------\n",
            "\n",
            "===>  TRAIN Epoch 7\n"
          ]
        },
        {
          "output_type": "stream",
          "name": "stderr",
          "text": [
            "0% [███] 100% | ETA: 00:00:00\n",
            "Total time elapsed: 00:02:02\n"
          ]
        },
        {
          "output_type": "stream",
          "name": "stdout",
          "text": [
            "Finished Epoch 7 || Run Time:  144.3 | Load Time:    0.4 || F1:  20.14 | Prec:  11.20 | Rec: 100.00 || Ex/s:   1.81\n",
            "\n",
            "===>  EVAL Epoch 7\n"
          ]
        },
        {
          "output_type": "stream",
          "name": "stderr",
          "text": [
            "0% [█] 100% | ETA: 00:00:00\n",
            "Total time elapsed: 00:00:15\n"
          ]
        },
        {
          "output_type": "stream",
          "name": "stdout",
          "text": [
            "Finished Epoch 7 || Run Time:   16.7 | Load Time:    0.1 || F1:  23.81 | Prec:  13.51 | Rec: 100.00 || Ex/s:   5.18\n",
            "\n",
            "* Best F1: tensor(23.8095)\n",
            "Saving best model...\n",
            "Done.\n",
            "---------------------\n",
            "\n",
            "===>  TRAIN Epoch 8\n"
          ]
        },
        {
          "output_type": "stream",
          "name": "stderr",
          "text": [
            "0% [███] 100% | ETA: 00:00:00\n",
            "Total time elapsed: 00:02:02\n"
          ]
        },
        {
          "output_type": "stream",
          "name": "stdout",
          "text": [
            "Finished Epoch 8 || Run Time:  144.6 | Load Time:    0.4 || F1:  22.58 | Prec:  12.73 | Rec: 100.00 || Ex/s:   1.81\n",
            "\n",
            "===>  EVAL Epoch 8\n"
          ]
        },
        {
          "output_type": "stream",
          "name": "stderr",
          "text": [
            "0% [█] 100% | ETA: 00:00:00\n",
            "Total time elapsed: 00:00:16\n"
          ]
        },
        {
          "output_type": "stream",
          "name": "stdout",
          "text": [
            "Finished Epoch 8 || Run Time:   17.1 | Load Time:    0.1 || F1:  25.00 | Prec:  14.81 | Rec:  80.00 || Ex/s:   5.05\n",
            "\n",
            "* Best F1: tensor(25.)\n",
            "Saving best model...\n",
            "Done.\n",
            "---------------------\n",
            "\n",
            "===>  TRAIN Epoch 9\n"
          ]
        },
        {
          "output_type": "stream",
          "name": "stderr",
          "text": [
            "0% [███] 100% | ETA: 00:00:00\n",
            "Total time elapsed: 00:02:01\n"
          ]
        },
        {
          "output_type": "stream",
          "name": "stdout",
          "text": [
            "Finished Epoch 9 || Run Time:  144.3 | Load Time:    0.4 || F1:  25.69 | Prec:  14.74 | Rec: 100.00 || Ex/s:   1.81\n",
            "\n",
            "===>  EVAL Epoch 9\n"
          ]
        },
        {
          "output_type": "stream",
          "name": "stderr",
          "text": [
            "0% [█] 100% | ETA: 00:00:00\n",
            "Total time elapsed: 00:00:15\n"
          ]
        },
        {
          "output_type": "stream",
          "name": "stdout",
          "text": [
            "Finished Epoch 9 || Run Time:   16.0 | Load Time:    0.1 || F1:  29.63 | Prec:  18.18 | Rec:  80.00 || Ex/s:   5.41\n",
            "\n",
            "* Best F1: tensor(29.6296)\n",
            "Saving best model...\n",
            "Done.\n",
            "---------------------\n",
            "\n",
            "===>  TRAIN Epoch 10\n"
          ]
        },
        {
          "output_type": "stream",
          "name": "stderr",
          "text": [
            "0% [███] 100% | ETA: 00:00:00\n",
            "Total time elapsed: 00:02:04\n"
          ]
        },
        {
          "output_type": "stream",
          "name": "stdout",
          "text": [
            "Finished Epoch 10 || Run Time:  147.0 | Load Time:    0.4 || F1:  26.92 | Prec:  15.56 | Rec: 100.00 || Ex/s:   1.78\n",
            "\n",
            "===>  EVAL Epoch 10\n"
          ]
        },
        {
          "output_type": "stream",
          "name": "stderr",
          "text": [
            "0% [█] 100% | ETA: 00:00:00\n",
            "Total time elapsed: 00:00:15\n"
          ]
        },
        {
          "output_type": "stream",
          "name": "stdout",
          "text": [
            "Finished Epoch 10 || Run Time:   16.3 | Load Time:    0.1 || F1:  28.57 | Prec:  17.39 | Rec:  80.00 || Ex/s:   5.30\n",
            "\n",
            "---------------------\n",
            "\n",
            "Loading best model...\n",
            "Training done.\n"
          ]
        },
        {
          "output_type": "execute_result",
          "data": {
            "text/plain": [
              "tensor(29.6296)"
            ]
          },
          "metadata": {},
          "execution_count": 11
        }
      ]
    },
    {
      "cell_type": "code",
      "metadata": {
        "colab": {
          "base_uri": "https://localhost:8080/"
        },
        "id": "WhdAyaBxRjcZ",
        "outputId": "44e7c4ef-6cf5-4653-d9ea-ad4e389b5235"
      },
      "source": [
        "unlabeled = dm.data.process_unlabeled(\n",
        "    path='unlabeled.csv',\n",
        "    trained_model=model)"
      ],
      "execution_count": null,
      "outputs": [
        {
          "output_type": "stream",
          "name": "stderr",
          "text": [
            "\n",
            "Reading and processing data from \"unlabeled.csv\"\n",
            "0% [##########      ] 100% | ETA: 00:00:00"
          ]
        }
      ]
    },
    {
      "cell_type": "code",
      "metadata": {
        "colab": {
          "base_uri": "https://localhost:8080/",
          "height": 289
        },
        "id": "OxvMTtQLRnye",
        "outputId": "1fd66890-d70c-4822-8f5c-40f4fd182d91"
      },
      "source": [
        "predictions = model.run_prediction(unlabeled)\n",
        "predictions.head()"
      ],
      "execution_count": null,
      "outputs": [
        {
          "output_type": "stream",
          "name": "stdout",
          "text": [
            "===>  PREDICT Epoch 9\n",
            "Finished Epoch 9 || Run Time:    2.5 | Load Time:    0.0 || F1:   0.00 | Prec:   0.00 | Rec:   0.00 || Ex/s:   0.00\n",
            "\n"
          ]
        },
        {
          "output_type": "execute_result",
          "data": {
            "text/plain": [
              "     match_score\n",
              "_id             \n",
              "31      0.688097\n",
              "155     0.978381\n",
              "331     0.515925\n",
              "274     0.984810\n",
              "65      0.459374"
            ],
            "text/html": [
              "\n",
              "  <div id=\"df-9d2d2e60-d805-40a8-8aa8-69f48a33c211\">\n",
              "    <div class=\"colab-df-container\">\n",
              "      <div>\n",
              "<style scoped>\n",
              "    .dataframe tbody tr th:only-of-type {\n",
              "        vertical-align: middle;\n",
              "    }\n",
              "\n",
              "    .dataframe tbody tr th {\n",
              "        vertical-align: top;\n",
              "    }\n",
              "\n",
              "    .dataframe thead th {\n",
              "        text-align: right;\n",
              "    }\n",
              "</style>\n",
              "<table border=\"1\" class=\"dataframe\">\n",
              "  <thead>\n",
              "    <tr style=\"text-align: right;\">\n",
              "      <th></th>\n",
              "      <th>match_score</th>\n",
              "    </tr>\n",
              "    <tr>\n",
              "      <th>_id</th>\n",
              "      <th></th>\n",
              "    </tr>\n",
              "  </thead>\n",
              "  <tbody>\n",
              "    <tr>\n",
              "      <th>31</th>\n",
              "      <td>0.688097</td>\n",
              "    </tr>\n",
              "    <tr>\n",
              "      <th>155</th>\n",
              "      <td>0.978381</td>\n",
              "    </tr>\n",
              "    <tr>\n",
              "      <th>331</th>\n",
              "      <td>0.515925</td>\n",
              "    </tr>\n",
              "    <tr>\n",
              "      <th>274</th>\n",
              "      <td>0.984810</td>\n",
              "    </tr>\n",
              "    <tr>\n",
              "      <th>65</th>\n",
              "      <td>0.459374</td>\n",
              "    </tr>\n",
              "  </tbody>\n",
              "</table>\n",
              "</div>\n",
              "      <button class=\"colab-df-convert\" onclick=\"convertToInteractive('df-9d2d2e60-d805-40a8-8aa8-69f48a33c211')\"\n",
              "              title=\"Convert this dataframe to an interactive table.\"\n",
              "              style=\"display:none;\">\n",
              "        \n",
              "  <svg xmlns=\"http://www.w3.org/2000/svg\" height=\"24px\"viewBox=\"0 0 24 24\"\n",
              "       width=\"24px\">\n",
              "    <path d=\"M0 0h24v24H0V0z\" fill=\"none\"/>\n",
              "    <path d=\"M18.56 5.44l.94 2.06.94-2.06 2.06-.94-2.06-.94-.94-2.06-.94 2.06-2.06.94zm-11 1L8.5 8.5l.94-2.06 2.06-.94-2.06-.94L8.5 2.5l-.94 2.06-2.06.94zm10 10l.94 2.06.94-2.06 2.06-.94-2.06-.94-.94-2.06-.94 2.06-2.06.94z\"/><path d=\"M17.41 7.96l-1.37-1.37c-.4-.4-.92-.59-1.43-.59-.52 0-1.04.2-1.43.59L10.3 9.45l-7.72 7.72c-.78.78-.78 2.05 0 2.83L4 21.41c.39.39.9.59 1.41.59.51 0 1.02-.2 1.41-.59l7.78-7.78 2.81-2.81c.8-.78.8-2.07 0-2.86zM5.41 20L4 18.59l7.72-7.72 1.47 1.35L5.41 20z\"/>\n",
              "  </svg>\n",
              "      </button>\n",
              "      \n",
              "  <style>\n",
              "    .colab-df-container {\n",
              "      display:flex;\n",
              "      flex-wrap:wrap;\n",
              "      gap: 12px;\n",
              "    }\n",
              "\n",
              "    .colab-df-convert {\n",
              "      background-color: #E8F0FE;\n",
              "      border: none;\n",
              "      border-radius: 50%;\n",
              "      cursor: pointer;\n",
              "      display: none;\n",
              "      fill: #1967D2;\n",
              "      height: 32px;\n",
              "      padding: 0 0 0 0;\n",
              "      width: 32px;\n",
              "    }\n",
              "\n",
              "    .colab-df-convert:hover {\n",
              "      background-color: #E2EBFA;\n",
              "      box-shadow: 0px 1px 2px rgba(60, 64, 67, 0.3), 0px 1px 3px 1px rgba(60, 64, 67, 0.15);\n",
              "      fill: #174EA6;\n",
              "    }\n",
              "\n",
              "    [theme=dark] .colab-df-convert {\n",
              "      background-color: #3B4455;\n",
              "      fill: #D2E3FC;\n",
              "    }\n",
              "\n",
              "    [theme=dark] .colab-df-convert:hover {\n",
              "      background-color: #434B5C;\n",
              "      box-shadow: 0px 1px 3px 1px rgba(0, 0, 0, 0.15);\n",
              "      filter: drop-shadow(0px 1px 2px rgba(0, 0, 0, 0.3));\n",
              "      fill: #FFFFFF;\n",
              "    }\n",
              "  </style>\n",
              "\n",
              "      <script>\n",
              "        const buttonEl =\n",
              "          document.querySelector('#df-9d2d2e60-d805-40a8-8aa8-69f48a33c211 button.colab-df-convert');\n",
              "        buttonEl.style.display =\n",
              "          google.colab.kernel.accessAllowed ? 'block' : 'none';\n",
              "\n",
              "        async function convertToInteractive(key) {\n",
              "          const element = document.querySelector('#df-9d2d2e60-d805-40a8-8aa8-69f48a33c211');\n",
              "          const dataTable =\n",
              "            await google.colab.kernel.invokeFunction('convertToInteractive',\n",
              "                                                     [key], {});\n",
              "          if (!dataTable) return;\n",
              "\n",
              "          const docLinkHtml = 'Like what you see? Visit the ' +\n",
              "            '<a target=\"_blank\" href=https://colab.research.google.com/notebooks/data_table.ipynb>data table notebook</a>'\n",
              "            + ' to learn more about interactive tables.';\n",
              "          element.innerHTML = '';\n",
              "          dataTable['output_type'] = 'display_data';\n",
              "          await google.colab.output.renderOutput(dataTable, element);\n",
              "          const docLink = document.createElement('div');\n",
              "          docLink.innerHTML = docLinkHtml;\n",
              "          element.appendChild(docLink);\n",
              "        }\n",
              "      </script>\n",
              "    </div>\n",
              "  </div>\n",
              "  "
            ]
          },
          "metadata": {},
          "execution_count": 13
        }
      ]
    },
    {
      "cell_type": "code",
      "metadata": {
        "colab": {
          "base_uri": "https://localhost:8080/",
          "height": 718
        },
        "id": "NTrIKkaiRqPI",
        "outputId": "fca3bf4f-00d7-4b61-de2c-e3dc38efa20c"
      },
      "source": [
        "predictions = model.run_prediction(unlabeled, output_attributes=True)\n",
        "predictions.head()"
      ],
      "execution_count": null,
      "outputs": [
        {
          "output_type": "stream",
          "name": "stdout",
          "text": [
            "===>  PREDICT Epoch 9\n"
          ]
        },
        {
          "output_type": "stream",
          "name": "stderr",
          "text": [
            "/usr/local/lib/python3.9/dist-packages/torch/nn/modules/module.py:770: UserWarning: Using non-full backward hooks on a Module that does not take as input a single Tensor or a tuple of Tensors is deprecated and will be removed in future versions. This hook will be missing some of the grad_input. Please use register_full_backward_hook to get the documented behavior.\n",
            "  warnings.warn(\"Using non-full backward hooks on a Module that does not take as input a \"\n",
            "/usr/local/lib/python3.9/dist-packages/torch/nn/modules/module.py:795: UserWarning: Using a non-full backward hook when the forward contains multiple autograd Nodes is deprecated and will be removed in future versions. This hook will be missing some grad_input. Please use register_full_backward_hook to get the documented behavior.\n",
            "  warnings.warn(\"Using a non-full backward hook when the forward contains multiple autograd Nodes \"\n",
            "/usr/local/lib/python3.9/dist-packages/torch/nn/modules/module.py:760: UserWarning: Using non-full backward hooks on a Module that does not return a single Tensor or a tuple of Tensors is deprecated and will be removed in future versions. This hook will be missing some of the grad_output. Please use register_full_backward_hook to get the documented behavior.\n",
            "  warnings.warn(\"Using non-full backward hooks on a Module that does not return a \"\n"
          ]
        },
        {
          "output_type": "stream",
          "name": "stdout",
          "text": [
            "Finished Epoch 9 || Run Time:    1.6 | Load Time:    0.0 || F1:   0.00 | Prec:   0.00 | Rec:   0.00 || Ex/s:   0.00\n",
            "\n"
          ]
        },
        {
          "output_type": "execute_result",
          "data": {
            "text/plain": [
              "     match_score  ltable_id  rtable_id  \\\n",
              "_id                                      \n",
              "31      0.688097         78         11   \n",
              "155     0.978381         38         57   \n",
              "331     0.515925         63        109   \n",
              "274     0.984810         59         94   \n",
              "65      0.459374         27         27   \n",
              "\n",
              "                         ltable_produk_name ltable_produk_harga  \\\n",
              "_id                                                               \n",
              "31   OBH Combi Batuk Plus Flu Menthol 60 ml           Rp 13,500   \n",
              "155                     Decadryl Exp 120 ml           Rp 17,700   \n",
              "331                Mucopect 30 mg Tab 100'S            Rp 4,600   \n",
              "274                             Mucera Drop           Rp 48,800   \n",
              "65               Bisolvon Batuk & Flu 60 ml           Rp 43,800   \n",
              "\n",
              "    ltable_produk_satuan                                   ltable_deskripsi  \\\n",
              "_id                                                                           \n",
              "31                 Botol  Obh combi adalah obat minum dalam bentuk sirup...   \n",
              "155                Botol  Decadryl exp merupakan obat untuk batuk berdah...   \n",
              "331               Tablet  Mucopect mengandung ambroxol yang diindikasika...   \n",
              "274                Botol  Mucera drop adalah obat batuk berdahak yang te...   \n",
              "65                 Botol  Bisolvon adalah obat yang digunakan untuk meng...   \n",
              "\n",
              "                                       ltable_indikasi  \\\n",
              "_id                                                      \n",
              "31   Meredakan batuk yang disertai gejala-gejala fl...   \n",
              "155                       Batuk berdahak karena alergi   \n",
              "331  Infeksi saluran nafas akut, bronkhitis, asma b...   \n",
              "274  Infeksi saluran nafas akut, bronkhitis, asma b...   \n",
              "65                            Meredakan batuk berdahak   \n",
              "\n",
              "                                      ltable_komposisi ltable_dosis  \\\n",
              "_id                                                                   \n",
              "31   Succus liquiritiae 167 mg/5ml, paracetamol 150...          NaN   \n",
              "155  Diphenhydramine 13.5 mg/5ml, ammonium chloride...          NaN   \n",
              "331                                     Ambroxol 30 mg          NaN   \n",
              "274                                  Ambroxol 15 mg/ml          NaN   \n",
              "65   Bromhexine 4 mg, phenylephrine 5 mg, paracetam...          NaN   \n",
              "\n",
              "                          rtable_produk_name rtable_produk_harga  \\\n",
              "_id                                                                \n",
              "31      OBH COMBI DEWASA BATUK FLU MADU 60ML           Rp 13.979   \n",
              "155                   DECADRYL EXP SYR 120ML           Rp 21.357   \n",
              "331    CIPROFLOXACIN HEXPHARM 500MG TAB 100S              Rp 673   \n",
              "274                MUCERA DROP 15MG/1ML 15ML           Rp 54.078   \n",
              "65   OBH COMBI ANAK BATUK FLU RASA APEL 60ML           Rp 15.840   \n",
              "\n",
              "    rtable_produk_satuan                                   rtable_deskripsi  \\\n",
              "_id                                                                           \n",
              "31                 Botol  OBH Combi batuk flu merupakan obat batuk pilek...   \n",
              "155                Botol  Sirup obat batuk pilek yang juga dapat membant...   \n",
              "331               Tablet  CIPROFLOXACIN HEXPHARM 500MG TAB merupakan ant...   \n",
              "274                Botol  Mucera diproduksi oleh PT Otto Pharmaceuticasl...   \n",
              "65                 Botol  Obat batuk pilek dan demam untuk anak dengan r...   \n",
              "\n",
              "                                       rtable_indikasi  \\\n",
              "_id                                                      \n",
              "31   meredakan batuk yang disertai gejala-gejala fl...   \n",
              "155     Untuk meringankan batuk berdahak karena alergi   \n",
              "331  Infeksi saluran kemih, infeksi saluran pernafa...   \n",
              "274  Penyakit saluran nafas akut dan kronis diserta...   \n",
              "65   Meredakan batuk yang disertai gejala-gejala fl...   \n",
              "\n",
              "                                      rtable_komposisi  \\\n",
              "_id                                                      \n",
              "31   succus Liquiritiae Extract 167 mg, Paracetamol...   \n",
              "155  Tiap 5 ml : Diprenhidramin HCL 13,5 mg, amoniu...   \n",
              "331                               Ciprofloxacin 500 mg   \n",
              "274                         Ambroxol HCl 15 mg/ml drop   \n",
              "65   succus Liquiritiae 100 mg, Paracetamol 120 mg,...   \n",
              "\n",
              "                                          rtable_dosis  \n",
              "_id                                                     \n",
              "31      > 12 thn : sehari, 3 x 3 sendok takar (@ 5 ml)  \n",
              "155  Dewasa : 1-2 Sendok takar tiap 3 jam, tidak bo...  \n",
              "331  Infeksi Saluran Kemih (ISK): Ringan - sedang 2...  \n",
              "274  anak 6-12 tahun: 2-3 x sehari 1 ml drops; anak...  \n",
              "65   Umur 2-5 thn : 3 x sehari 1 sendok takar (@ 5 ml)  "
            ],
            "text/html": [
              "\n",
              "  <div id=\"df-153aef86-3e19-492c-ad63-b0becfc1ea9d\">\n",
              "    <div class=\"colab-df-container\">\n",
              "      <div>\n",
              "<style scoped>\n",
              "    .dataframe tbody tr th:only-of-type {\n",
              "        vertical-align: middle;\n",
              "    }\n",
              "\n",
              "    .dataframe tbody tr th {\n",
              "        vertical-align: top;\n",
              "    }\n",
              "\n",
              "    .dataframe thead th {\n",
              "        text-align: right;\n",
              "    }\n",
              "</style>\n",
              "<table border=\"1\" class=\"dataframe\">\n",
              "  <thead>\n",
              "    <tr style=\"text-align: right;\">\n",
              "      <th></th>\n",
              "      <th>match_score</th>\n",
              "      <th>ltable_id</th>\n",
              "      <th>rtable_id</th>\n",
              "      <th>ltable_produk_name</th>\n",
              "      <th>ltable_produk_harga</th>\n",
              "      <th>ltable_produk_satuan</th>\n",
              "      <th>ltable_deskripsi</th>\n",
              "      <th>ltable_indikasi</th>\n",
              "      <th>ltable_komposisi</th>\n",
              "      <th>ltable_dosis</th>\n",
              "      <th>rtable_produk_name</th>\n",
              "      <th>rtable_produk_harga</th>\n",
              "      <th>rtable_produk_satuan</th>\n",
              "      <th>rtable_deskripsi</th>\n",
              "      <th>rtable_indikasi</th>\n",
              "      <th>rtable_komposisi</th>\n",
              "      <th>rtable_dosis</th>\n",
              "    </tr>\n",
              "    <tr>\n",
              "      <th>_id</th>\n",
              "      <th></th>\n",
              "      <th></th>\n",
              "      <th></th>\n",
              "      <th></th>\n",
              "      <th></th>\n",
              "      <th></th>\n",
              "      <th></th>\n",
              "      <th></th>\n",
              "      <th></th>\n",
              "      <th></th>\n",
              "      <th></th>\n",
              "      <th></th>\n",
              "      <th></th>\n",
              "      <th></th>\n",
              "      <th></th>\n",
              "      <th></th>\n",
              "      <th></th>\n",
              "    </tr>\n",
              "  </thead>\n",
              "  <tbody>\n",
              "    <tr>\n",
              "      <th>31</th>\n",
              "      <td>0.688097</td>\n",
              "      <td>78</td>\n",
              "      <td>11</td>\n",
              "      <td>OBH Combi Batuk Plus Flu Menthol 60 ml</td>\n",
              "      <td>Rp 13,500</td>\n",
              "      <td>Botol</td>\n",
              "      <td>Obh combi adalah obat minum dalam bentuk sirup...</td>\n",
              "      <td>Meredakan batuk yang disertai gejala-gejala fl...</td>\n",
              "      <td>Succus liquiritiae 167 mg/5ml, paracetamol 150...</td>\n",
              "      <td>NaN</td>\n",
              "      <td>OBH COMBI DEWASA BATUK FLU MADU 60ML</td>\n",
              "      <td>Rp 13.979</td>\n",
              "      <td>Botol</td>\n",
              "      <td>OBH Combi batuk flu merupakan obat batuk pilek...</td>\n",
              "      <td>meredakan batuk yang disertai gejala-gejala fl...</td>\n",
              "      <td>succus Liquiritiae Extract 167 mg, Paracetamol...</td>\n",
              "      <td>&gt; 12 thn : sehari, 3 x 3 sendok takar (@ 5 ml)</td>\n",
              "    </tr>\n",
              "    <tr>\n",
              "      <th>155</th>\n",
              "      <td>0.978381</td>\n",
              "      <td>38</td>\n",
              "      <td>57</td>\n",
              "      <td>Decadryl Exp 120 ml</td>\n",
              "      <td>Rp 17,700</td>\n",
              "      <td>Botol</td>\n",
              "      <td>Decadryl exp merupakan obat untuk batuk berdah...</td>\n",
              "      <td>Batuk berdahak karena alergi</td>\n",
              "      <td>Diphenhydramine 13.5 mg/5ml, ammonium chloride...</td>\n",
              "      <td>NaN</td>\n",
              "      <td>DECADRYL EXP SYR 120ML</td>\n",
              "      <td>Rp 21.357</td>\n",
              "      <td>Botol</td>\n",
              "      <td>Sirup obat batuk pilek yang juga dapat membant...</td>\n",
              "      <td>Untuk meringankan batuk berdahak karena alergi</td>\n",
              "      <td>Tiap 5 ml : Diprenhidramin HCL 13,5 mg, amoniu...</td>\n",
              "      <td>Dewasa : 1-2 Sendok takar tiap 3 jam, tidak bo...</td>\n",
              "    </tr>\n",
              "    <tr>\n",
              "      <th>331</th>\n",
              "      <td>0.515925</td>\n",
              "      <td>63</td>\n",
              "      <td>109</td>\n",
              "      <td>Mucopect 30 mg Tab 100'S</td>\n",
              "      <td>Rp 4,600</td>\n",
              "      <td>Tablet</td>\n",
              "      <td>Mucopect mengandung ambroxol yang diindikasika...</td>\n",
              "      <td>Infeksi saluran nafas akut, bronkhitis, asma b...</td>\n",
              "      <td>Ambroxol 30 mg</td>\n",
              "      <td>NaN</td>\n",
              "      <td>CIPROFLOXACIN HEXPHARM 500MG TAB 100S</td>\n",
              "      <td>Rp 673</td>\n",
              "      <td>Tablet</td>\n",
              "      <td>CIPROFLOXACIN HEXPHARM 500MG TAB merupakan ant...</td>\n",
              "      <td>Infeksi saluran kemih, infeksi saluran pernafa...</td>\n",
              "      <td>Ciprofloxacin 500 mg</td>\n",
              "      <td>Infeksi Saluran Kemih (ISK): Ringan - sedang 2...</td>\n",
              "    </tr>\n",
              "    <tr>\n",
              "      <th>274</th>\n",
              "      <td>0.984810</td>\n",
              "      <td>59</td>\n",
              "      <td>94</td>\n",
              "      <td>Mucera Drop</td>\n",
              "      <td>Rp 48,800</td>\n",
              "      <td>Botol</td>\n",
              "      <td>Mucera drop adalah obat batuk berdahak yang te...</td>\n",
              "      <td>Infeksi saluran nafas akut, bronkhitis, asma b...</td>\n",
              "      <td>Ambroxol 15 mg/ml</td>\n",
              "      <td>NaN</td>\n",
              "      <td>MUCERA DROP 15MG/1ML 15ML</td>\n",
              "      <td>Rp 54.078</td>\n",
              "      <td>Botol</td>\n",
              "      <td>Mucera diproduksi oleh PT Otto Pharmaceuticasl...</td>\n",
              "      <td>Penyakit saluran nafas akut dan kronis diserta...</td>\n",
              "      <td>Ambroxol HCl 15 mg/ml drop</td>\n",
              "      <td>anak 6-12 tahun: 2-3 x sehari 1 ml drops; anak...</td>\n",
              "    </tr>\n",
              "    <tr>\n",
              "      <th>65</th>\n",
              "      <td>0.459374</td>\n",
              "      <td>27</td>\n",
              "      <td>27</td>\n",
              "      <td>Bisolvon Batuk &amp; Flu 60 ml</td>\n",
              "      <td>Rp 43,800</td>\n",
              "      <td>Botol</td>\n",
              "      <td>Bisolvon adalah obat yang digunakan untuk meng...</td>\n",
              "      <td>Meredakan batuk berdahak</td>\n",
              "      <td>Bromhexine 4 mg, phenylephrine 5 mg, paracetam...</td>\n",
              "      <td>NaN</td>\n",
              "      <td>OBH COMBI ANAK BATUK FLU RASA APEL 60ML</td>\n",
              "      <td>Rp 15.840</td>\n",
              "      <td>Botol</td>\n",
              "      <td>Obat batuk pilek dan demam untuk anak dengan r...</td>\n",
              "      <td>Meredakan batuk yang disertai gejala-gejala fl...</td>\n",
              "      <td>succus Liquiritiae 100 mg, Paracetamol 120 mg,...</td>\n",
              "      <td>Umur 2-5 thn : 3 x sehari 1 sendok takar (@ 5 ml)</td>\n",
              "    </tr>\n",
              "  </tbody>\n",
              "</table>\n",
              "</div>\n",
              "      <button class=\"colab-df-convert\" onclick=\"convertToInteractive('df-153aef86-3e19-492c-ad63-b0becfc1ea9d')\"\n",
              "              title=\"Convert this dataframe to an interactive table.\"\n",
              "              style=\"display:none;\">\n",
              "        \n",
              "  <svg xmlns=\"http://www.w3.org/2000/svg\" height=\"24px\"viewBox=\"0 0 24 24\"\n",
              "       width=\"24px\">\n",
              "    <path d=\"M0 0h24v24H0V0z\" fill=\"none\"/>\n",
              "    <path d=\"M18.56 5.44l.94 2.06.94-2.06 2.06-.94-2.06-.94-.94-2.06-.94 2.06-2.06.94zm-11 1L8.5 8.5l.94-2.06 2.06-.94-2.06-.94L8.5 2.5l-.94 2.06-2.06.94zm10 10l.94 2.06.94-2.06 2.06-.94-2.06-.94-.94-2.06-.94 2.06-2.06.94z\"/><path d=\"M17.41 7.96l-1.37-1.37c-.4-.4-.92-.59-1.43-.59-.52 0-1.04.2-1.43.59L10.3 9.45l-7.72 7.72c-.78.78-.78 2.05 0 2.83L4 21.41c.39.39.9.59 1.41.59.51 0 1.02-.2 1.41-.59l7.78-7.78 2.81-2.81c.8-.78.8-2.07 0-2.86zM5.41 20L4 18.59l7.72-7.72 1.47 1.35L5.41 20z\"/>\n",
              "  </svg>\n",
              "      </button>\n",
              "      \n",
              "  <style>\n",
              "    .colab-df-container {\n",
              "      display:flex;\n",
              "      flex-wrap:wrap;\n",
              "      gap: 12px;\n",
              "    }\n",
              "\n",
              "    .colab-df-convert {\n",
              "      background-color: #E8F0FE;\n",
              "      border: none;\n",
              "      border-radius: 50%;\n",
              "      cursor: pointer;\n",
              "      display: none;\n",
              "      fill: #1967D2;\n",
              "      height: 32px;\n",
              "      padding: 0 0 0 0;\n",
              "      width: 32px;\n",
              "    }\n",
              "\n",
              "    .colab-df-convert:hover {\n",
              "      background-color: #E2EBFA;\n",
              "      box-shadow: 0px 1px 2px rgba(60, 64, 67, 0.3), 0px 1px 3px 1px rgba(60, 64, 67, 0.15);\n",
              "      fill: #174EA6;\n",
              "    }\n",
              "\n",
              "    [theme=dark] .colab-df-convert {\n",
              "      background-color: #3B4455;\n",
              "      fill: #D2E3FC;\n",
              "    }\n",
              "\n",
              "    [theme=dark] .colab-df-convert:hover {\n",
              "      background-color: #434B5C;\n",
              "      box-shadow: 0px 1px 3px 1px rgba(0, 0, 0, 0.15);\n",
              "      filter: drop-shadow(0px 1px 2px rgba(0, 0, 0, 0.3));\n",
              "      fill: #FFFFFF;\n",
              "    }\n",
              "  </style>\n",
              "\n",
              "      <script>\n",
              "        const buttonEl =\n",
              "          document.querySelector('#df-153aef86-3e19-492c-ad63-b0becfc1ea9d button.colab-df-convert');\n",
              "        buttonEl.style.display =\n",
              "          google.colab.kernel.accessAllowed ? 'block' : 'none';\n",
              "\n",
              "        async function convertToInteractive(key) {\n",
              "          const element = document.querySelector('#df-153aef86-3e19-492c-ad63-b0becfc1ea9d');\n",
              "          const dataTable =\n",
              "            await google.colab.kernel.invokeFunction('convertToInteractive',\n",
              "                                                     [key], {});\n",
              "          if (!dataTable) return;\n",
              "\n",
              "          const docLinkHtml = 'Like what you see? Visit the ' +\n",
              "            '<a target=\"_blank\" href=https://colab.research.google.com/notebooks/data_table.ipynb>data table notebook</a>'\n",
              "            + ' to learn more about interactive tables.';\n",
              "          element.innerHTML = '';\n",
              "          dataTable['output_type'] = 'display_data';\n",
              "          await google.colab.output.renderOutput(dataTable, element);\n",
              "          const docLink = document.createElement('div');\n",
              "          docLink.innerHTML = docLinkHtml;\n",
              "          element.appendChild(docLink);\n",
              "        }\n",
              "      </script>\n",
              "    </div>\n",
              "  </div>\n",
              "  "
            ]
          },
          "metadata": {},
          "execution_count": 14
        }
      ]
    },
    {
      "cell_type": "code",
      "metadata": {
        "colab": {
          "base_uri": "https://localhost:8080/",
          "height": 478
        },
        "id": "NBqtSZyHSDiy",
        "outputId": "419a48fa-0591-4e7a-ac35-14b160791e9b"
      },
      "source": [
        "high_score_pairs = predictions[predictions['match_score'] >= 0.9].sort_values(by=['match_score'], ascending=False)\n",
        "high_score_pairs.head()"
      ],
      "execution_count": null,
      "outputs": [
        {
          "output_type": "execute_result",
          "data": {
            "text/plain": [
              "     match_score  ltable_id  rtable_id             ltable_produk_name  \\\n",
              "_id                                                                     \n",
              "334     0.994439        148        110  Ciprofloxacin 500 mg Tab Hexp   \n",
              "274     0.984810         59         94                    Mucera Drop   \n",
              "155     0.978381         38         57            Decadryl Exp 120 ml   \n",
              "21      0.959395         80         10   OBH Combi Flu Jahe 60 ml New   \n",
              "\n",
              "    ltable_produk_harga ltable_produk_satuan  \\\n",
              "_id                                            \n",
              "334              Rp 600               tablet   \n",
              "274           Rp 48,800                Botol   \n",
              "155           Rp 17,700                Botol   \n",
              "21            Rp 13,500                Botol   \n",
              "\n",
              "                                      ltable_deskripsi  \\\n",
              "_id                                                      \n",
              "334  Ciprofloxacin adalah obat yang masuk dalam kat...   \n",
              "274  Mucera drop adalah obat batuk berdahak yang te...   \n",
              "155  Decadryl exp merupakan obat untuk batuk berdah...   \n",
              "21   Obh combi adalah obat minum dalam bentuk sirup...   \n",
              "\n",
              "                                       ltable_indikasi  \\\n",
              "_id                                                      \n",
              "334  Infeksi saluran pernafasan, infeksi jaringan l...   \n",
              "274  Infeksi saluran nafas akut, bronkhitis, asma b...   \n",
              "155                       Batuk berdahak karena alergi   \n",
              "21   Meredakan batuk yang disertai gejala-gejala fl...   \n",
              "\n",
              "                                      ltable_komposisi ltable_dosis  \\\n",
              "_id                                                                   \n",
              "334                               Ciprofloxacin 500 mg          NaN   \n",
              "274                                  Ambroxol 15 mg/ml          NaN   \n",
              "155  Diphenhydramine 13.5 mg/5ml, ammonium chloride...          NaN   \n",
              "21   Succus liquiritiae 167 mg/5ml, paracetamol 150...          NaN   \n",
              "\n",
              "                       rtable_produk_name rtable_produk_harga  \\\n",
              "_id                                                             \n",
              "334  CIPROFLOXACIN HEXPHARM 500MG TAB 50S            Rp 1.326   \n",
              "274             MUCERA DROP 15MG/1ML 15ML           Rp 54.078   \n",
              "155                DECADRYL EXP SYR 120ML           Rp 21.357   \n",
              "21   OBH COMBI DEWASA BATUK FLU JAHE 60ML           Rp 13.867   \n",
              "\n",
              "    rtable_produk_satuan                                   rtable_deskripsi  \\\n",
              "_id                                                                           \n",
              "334               Tablet  CIPROFLOXACIN HEXPHARM 500MG TAB berfungsi unt...   \n",
              "274                Botol  Mucera diproduksi oleh PT Otto Pharmaceuticasl...   \n",
              "155                Botol  Sirup obat batuk pilek yang juga dapat membant...   \n",
              "21                 Botol  OBH Combi batuk flu merupakan obat batuk pilek...   \n",
              "\n",
              "                                       rtable_indikasi  \\\n",
              "_id                                                      \n",
              "334  Infeksi saluran kemih, infeksi saluran pernafa...   \n",
              "274  Penyakit saluran nafas akut dan kronis diserta...   \n",
              "155     Untuk meringankan batuk berdahak karena alergi   \n",
              "21   meredakan batuk yang disertai gejala-gejala fl...   \n",
              "\n",
              "                                      rtable_komposisi  \\\n",
              "_id                                                      \n",
              "334                               Ciprofloxacin 500 mg   \n",
              "274                         Ambroxol HCl 15 mg/ml drop   \n",
              "155  Tiap 5 ml : Diprenhidramin HCL 13,5 mg, amoniu...   \n",
              "21   succus Liquiritiae Extract 167 mg, Paracetamol...   \n",
              "\n",
              "                                          rtable_dosis  \n",
              "_id                                                     \n",
              "334  Infeksi Saluran Kemih (ISK): Ringan - sedang 2...  \n",
              "274  anak 6-12 tahun: 2-3 x sehari 1 ml drops; anak...  \n",
              "155  Dewasa : 1-2 Sendok takar tiap 3 jam, tidak bo...  \n",
              "21   Dewasa dan anak >12 thn : 3 kali sehari 3 send...  "
            ],
            "text/html": [
              "\n",
              "  <div id=\"df-a6c999b6-df2f-4dd3-b566-0e2c5306c9cb\">\n",
              "    <div class=\"colab-df-container\">\n",
              "      <div>\n",
              "<style scoped>\n",
              "    .dataframe tbody tr th:only-of-type {\n",
              "        vertical-align: middle;\n",
              "    }\n",
              "\n",
              "    .dataframe tbody tr th {\n",
              "        vertical-align: top;\n",
              "    }\n",
              "\n",
              "    .dataframe thead th {\n",
              "        text-align: right;\n",
              "    }\n",
              "</style>\n",
              "<table border=\"1\" class=\"dataframe\">\n",
              "  <thead>\n",
              "    <tr style=\"text-align: right;\">\n",
              "      <th></th>\n",
              "      <th>match_score</th>\n",
              "      <th>ltable_id</th>\n",
              "      <th>rtable_id</th>\n",
              "      <th>ltable_produk_name</th>\n",
              "      <th>ltable_produk_harga</th>\n",
              "      <th>ltable_produk_satuan</th>\n",
              "      <th>ltable_deskripsi</th>\n",
              "      <th>ltable_indikasi</th>\n",
              "      <th>ltable_komposisi</th>\n",
              "      <th>ltable_dosis</th>\n",
              "      <th>rtable_produk_name</th>\n",
              "      <th>rtable_produk_harga</th>\n",
              "      <th>rtable_produk_satuan</th>\n",
              "      <th>rtable_deskripsi</th>\n",
              "      <th>rtable_indikasi</th>\n",
              "      <th>rtable_komposisi</th>\n",
              "      <th>rtable_dosis</th>\n",
              "    </tr>\n",
              "    <tr>\n",
              "      <th>_id</th>\n",
              "      <th></th>\n",
              "      <th></th>\n",
              "      <th></th>\n",
              "      <th></th>\n",
              "      <th></th>\n",
              "      <th></th>\n",
              "      <th></th>\n",
              "      <th></th>\n",
              "      <th></th>\n",
              "      <th></th>\n",
              "      <th></th>\n",
              "      <th></th>\n",
              "      <th></th>\n",
              "      <th></th>\n",
              "      <th></th>\n",
              "      <th></th>\n",
              "      <th></th>\n",
              "    </tr>\n",
              "  </thead>\n",
              "  <tbody>\n",
              "    <tr>\n",
              "      <th>334</th>\n",
              "      <td>0.994439</td>\n",
              "      <td>148</td>\n",
              "      <td>110</td>\n",
              "      <td>Ciprofloxacin 500 mg Tab Hexp</td>\n",
              "      <td>Rp 600</td>\n",
              "      <td>tablet</td>\n",
              "      <td>Ciprofloxacin adalah obat yang masuk dalam kat...</td>\n",
              "      <td>Infeksi saluran pernafasan, infeksi jaringan l...</td>\n",
              "      <td>Ciprofloxacin 500 mg</td>\n",
              "      <td>NaN</td>\n",
              "      <td>CIPROFLOXACIN HEXPHARM 500MG TAB 50S</td>\n",
              "      <td>Rp 1.326</td>\n",
              "      <td>Tablet</td>\n",
              "      <td>CIPROFLOXACIN HEXPHARM 500MG TAB berfungsi unt...</td>\n",
              "      <td>Infeksi saluran kemih, infeksi saluran pernafa...</td>\n",
              "      <td>Ciprofloxacin 500 mg</td>\n",
              "      <td>Infeksi Saluran Kemih (ISK): Ringan - sedang 2...</td>\n",
              "    </tr>\n",
              "    <tr>\n",
              "      <th>274</th>\n",
              "      <td>0.984810</td>\n",
              "      <td>59</td>\n",
              "      <td>94</td>\n",
              "      <td>Mucera Drop</td>\n",
              "      <td>Rp 48,800</td>\n",
              "      <td>Botol</td>\n",
              "      <td>Mucera drop adalah obat batuk berdahak yang te...</td>\n",
              "      <td>Infeksi saluran nafas akut, bronkhitis, asma b...</td>\n",
              "      <td>Ambroxol 15 mg/ml</td>\n",
              "      <td>NaN</td>\n",
              "      <td>MUCERA DROP 15MG/1ML 15ML</td>\n",
              "      <td>Rp 54.078</td>\n",
              "      <td>Botol</td>\n",
              "      <td>Mucera diproduksi oleh PT Otto Pharmaceuticasl...</td>\n",
              "      <td>Penyakit saluran nafas akut dan kronis diserta...</td>\n",
              "      <td>Ambroxol HCl 15 mg/ml drop</td>\n",
              "      <td>anak 6-12 tahun: 2-3 x sehari 1 ml drops; anak...</td>\n",
              "    </tr>\n",
              "    <tr>\n",
              "      <th>155</th>\n",
              "      <td>0.978381</td>\n",
              "      <td>38</td>\n",
              "      <td>57</td>\n",
              "      <td>Decadryl Exp 120 ml</td>\n",
              "      <td>Rp 17,700</td>\n",
              "      <td>Botol</td>\n",
              "      <td>Decadryl exp merupakan obat untuk batuk berdah...</td>\n",
              "      <td>Batuk berdahak karena alergi</td>\n",
              "      <td>Diphenhydramine 13.5 mg/5ml, ammonium chloride...</td>\n",
              "      <td>NaN</td>\n",
              "      <td>DECADRYL EXP SYR 120ML</td>\n",
              "      <td>Rp 21.357</td>\n",
              "      <td>Botol</td>\n",
              "      <td>Sirup obat batuk pilek yang juga dapat membant...</td>\n",
              "      <td>Untuk meringankan batuk berdahak karena alergi</td>\n",
              "      <td>Tiap 5 ml : Diprenhidramin HCL 13,5 mg, amoniu...</td>\n",
              "      <td>Dewasa : 1-2 Sendok takar tiap 3 jam, tidak bo...</td>\n",
              "    </tr>\n",
              "    <tr>\n",
              "      <th>21</th>\n",
              "      <td>0.959395</td>\n",
              "      <td>80</td>\n",
              "      <td>10</td>\n",
              "      <td>OBH Combi Flu Jahe 60 ml New</td>\n",
              "      <td>Rp 13,500</td>\n",
              "      <td>Botol</td>\n",
              "      <td>Obh combi adalah obat minum dalam bentuk sirup...</td>\n",
              "      <td>Meredakan batuk yang disertai gejala-gejala fl...</td>\n",
              "      <td>Succus liquiritiae 167 mg/5ml, paracetamol 150...</td>\n",
              "      <td>NaN</td>\n",
              "      <td>OBH COMBI DEWASA BATUK FLU JAHE 60ML</td>\n",
              "      <td>Rp 13.867</td>\n",
              "      <td>Botol</td>\n",
              "      <td>OBH Combi batuk flu merupakan obat batuk pilek...</td>\n",
              "      <td>meredakan batuk yang disertai gejala-gejala fl...</td>\n",
              "      <td>succus Liquiritiae Extract 167 mg, Paracetamol...</td>\n",
              "      <td>Dewasa dan anak &gt;12 thn : 3 kali sehari 3 send...</td>\n",
              "    </tr>\n",
              "  </tbody>\n",
              "</table>\n",
              "</div>\n",
              "      <button class=\"colab-df-convert\" onclick=\"convertToInteractive('df-a6c999b6-df2f-4dd3-b566-0e2c5306c9cb')\"\n",
              "              title=\"Convert this dataframe to an interactive table.\"\n",
              "              style=\"display:none;\">\n",
              "        \n",
              "  <svg xmlns=\"http://www.w3.org/2000/svg\" height=\"24px\"viewBox=\"0 0 24 24\"\n",
              "       width=\"24px\">\n",
              "    <path d=\"M0 0h24v24H0V0z\" fill=\"none\"/>\n",
              "    <path d=\"M18.56 5.44l.94 2.06.94-2.06 2.06-.94-2.06-.94-.94-2.06-.94 2.06-2.06.94zm-11 1L8.5 8.5l.94-2.06 2.06-.94-2.06-.94L8.5 2.5l-.94 2.06-2.06.94zm10 10l.94 2.06.94-2.06 2.06-.94-2.06-.94-.94-2.06-.94 2.06-2.06.94z\"/><path d=\"M17.41 7.96l-1.37-1.37c-.4-.4-.92-.59-1.43-.59-.52 0-1.04.2-1.43.59L10.3 9.45l-7.72 7.72c-.78.78-.78 2.05 0 2.83L4 21.41c.39.39.9.59 1.41.59.51 0 1.02-.2 1.41-.59l7.78-7.78 2.81-2.81c.8-.78.8-2.07 0-2.86zM5.41 20L4 18.59l7.72-7.72 1.47 1.35L5.41 20z\"/>\n",
              "  </svg>\n",
              "      </button>\n",
              "      \n",
              "  <style>\n",
              "    .colab-df-container {\n",
              "      display:flex;\n",
              "      flex-wrap:wrap;\n",
              "      gap: 12px;\n",
              "    }\n",
              "\n",
              "    .colab-df-convert {\n",
              "      background-color: #E8F0FE;\n",
              "      border: none;\n",
              "      border-radius: 50%;\n",
              "      cursor: pointer;\n",
              "      display: none;\n",
              "      fill: #1967D2;\n",
              "      height: 32px;\n",
              "      padding: 0 0 0 0;\n",
              "      width: 32px;\n",
              "    }\n",
              "\n",
              "    .colab-df-convert:hover {\n",
              "      background-color: #E2EBFA;\n",
              "      box-shadow: 0px 1px 2px rgba(60, 64, 67, 0.3), 0px 1px 3px 1px rgba(60, 64, 67, 0.15);\n",
              "      fill: #174EA6;\n",
              "    }\n",
              "\n",
              "    [theme=dark] .colab-df-convert {\n",
              "      background-color: #3B4455;\n",
              "      fill: #D2E3FC;\n",
              "    }\n",
              "\n",
              "    [theme=dark] .colab-df-convert:hover {\n",
              "      background-color: #434B5C;\n",
              "      box-shadow: 0px 1px 3px 1px rgba(0, 0, 0, 0.15);\n",
              "      filter: drop-shadow(0px 1px 2px rgba(0, 0, 0, 0.3));\n",
              "      fill: #FFFFFF;\n",
              "    }\n",
              "  </style>\n",
              "\n",
              "      <script>\n",
              "        const buttonEl =\n",
              "          document.querySelector('#df-a6c999b6-df2f-4dd3-b566-0e2c5306c9cb button.colab-df-convert');\n",
              "        buttonEl.style.display =\n",
              "          google.colab.kernel.accessAllowed ? 'block' : 'none';\n",
              "\n",
              "        async function convertToInteractive(key) {\n",
              "          const element = document.querySelector('#df-a6c999b6-df2f-4dd3-b566-0e2c5306c9cb');\n",
              "          const dataTable =\n",
              "            await google.colab.kernel.invokeFunction('convertToInteractive',\n",
              "                                                     [key], {});\n",
              "          if (!dataTable) return;\n",
              "\n",
              "          const docLinkHtml = 'Like what you see? Visit the ' +\n",
              "            '<a target=\"_blank\" href=https://colab.research.google.com/notebooks/data_table.ipynb>data table notebook</a>'\n",
              "            + ' to learn more about interactive tables.';\n",
              "          element.innerHTML = '';\n",
              "          dataTable['output_type'] = 'display_data';\n",
              "          await google.colab.output.renderOutput(dataTable, element);\n",
              "          const docLink = document.createElement('div');\n",
              "          docLink.innerHTML = docLinkHtml;\n",
              "          element.appendChild(docLink);\n",
              "        }\n",
              "      </script>\n",
              "    </div>\n",
              "  </div>\n",
              "  "
            ]
          },
          "metadata": {},
          "execution_count": 15
        }
      ]
    },
    {
      "cell_type": "code",
      "metadata": {
        "id": "MFOMJi_oSQ42"
      },
      "source": [
        "predictions.to_csv('unlabeled_predictions.csv')"
      ],
      "execution_count": null,
      "outputs": []
    },
    {
      "cell_type": "markdown",
      "source": [
        "**Data Sendiri**"
      ],
      "metadata": {
        "id": "zP5oilK3xO9o"
      }
    },
    {
      "cell_type": "code",
      "source": [
        "import pandas as pd\n",
        "#pd.read_csv('https://raw.githubusercontent.com/evanradith/title_dataset/dataset/data_labelled.csv').head()\n",
        "url = \"https://github.com/evanradith/title_dataset/raw/main/data_labelled_dm.csv\"\n",
        "data = pd.read_csv(url)"
      ],
      "metadata": {
        "id": "fl_voS3__YV_"
      },
      "execution_count": null,
      "outputs": []
    },
    {
      "cell_type": "code",
      "source": [
        "split_path=os.path.join('.')\n",
        "\n",
        "# Split labeled data into train, valid, and test csv files to disk, with the split ratio of 3:1:1.\n",
        "dm.data.split(data, split_path, 'train_title.csv', 'valid_title.csv', 'test_title.csv',\n",
        "              [3, 1, 1])"
      ],
      "metadata": {
        "id": "UEEQusM1_BYy"
      },
      "execution_count": null,
      "outputs": []
    },
    {
      "cell_type": "code",
      "source": [
        "train, validation, test = dm.data.process(\n",
        "    path=os.path.join('.'),\n",
        "    #cache='train_cache.pth',\n",
        "    train='train_title.csv',\n",
        "    validation='valid_title.csv',\n",
        "    test='test_title.csv',\n",
        "    #use_magellan_convention=True,\n",
        "    #ignore_columns=('ltable_id', 'rtable_id')\n",
        "    )"
      ],
      "metadata": {
        "colab": {
          "base_uri": "https://localhost:8080/"
        },
        "id": "Y6cwnBRnBAXY",
        "outputId": "fc19475d-2a24-4b83-a022-9ea5ad882272"
      },
      "execution_count": null,
      "outputs": [
        {
          "output_type": "stream",
          "name": "stderr",
          "text": [
            "\n",
            "Reading and processing data from \"./train_title.csv\"\n",
            "0% [############################# ] 100% | ETA: 00:00:00\n",
            "Reading and processing data from \"./valid_title.csv\"\n",
            "0% [############################# ] 100% | ETA: 00:00:00\n",
            "Reading and processing data from \"./test_title.csv\"\n",
            "0% [############################# ] 100% | ETA: 00:00:00Warning : `load_model` does not return WordVectorModel or SupervisedModel any more, but a `FastText` object which is very similar.\n",
            "\n",
            "Building vocabulary\n",
            "0% [#] 100% | ETA: 00:00:00\n",
            "Total time elapsed: 00:00:00\n",
            "\n",
            "Computing principal components\n",
            "0% [#] 100% | ETA: 00:00:00\n",
            "Total time elapsed: 00:00:00\n"
          ]
        }
      ]
    },
    {
      "cell_type": "code",
      "source": [
        "train_table = train.get_raw_table()\n",
        "train_table.head()"
      ],
      "metadata": {
        "colab": {
          "base_uri": "https://localhost:8080/",
          "height": 676
        },
        "id": "DmfV0NnEIaty",
        "outputId": "2ae0a28f-5275-48c2-e7e1-fe59f7dde24a"
      },
      "execution_count": null,
      "outputs": [
        {
          "output_type": "execute_result",
          "data": {
            "text/plain": [
              "                                        left_authors  \\\n",
              "0  [ 'paul a ' , 'ghosh s ' , 'das ak ' , 'goswam...   \n",
              "1  [ 'khemasuwan d ' , 'sorensen js ' , 'colt hg ' ]   \n",
              "2  [ 'jorquera-chavez m ' , 'fuentes s ' , 'dunsh...   \n",
              "3  [ 'akbarian s ' , 'cawston t ' , 'moreno l ' ,...   \n",
              "4  [ 'alguliyev r ' , 'imamverdiyev y ' , 'sukhos...   \n",
              "\n",
              "                                       right_authors  \\\n",
              "0  [ 'sánchez-brau m ' , 'domenech-amigot b ' , '...   \n",
              "1  [ 'esteva a ' , 'chou k ' , 'yeung s ' , 'naik...   \n",
              "2  [ 'akbarian s ' , 'nelder mp ' , 'russell cb '...   \n",
              "3  [ 'luo c ' , 'pearson p ' , 'xu g ' , 'rich sm...   \n",
              "4  [ 'uryasheva a ' , 'kalashnikova a ' , 'shadri...   \n",
              "\n",
              "                                          left_title  \\\n",
              "0  [ ' a ' , 'review ' , 'on ' , 'agricultural ' ...   \n",
              "1  [ 'artificial ' , 'intelligence ' , 'in ' , 'p...   \n",
              "2  [ 'using ' , 'imagery ' , 'and ' , 'computer '...   \n",
              "3  [ ' a ' , 'computer ' , 'vision ' , 'approach ...   \n",
              "4  [ 'plant ' , 'disease ' , 'detection ' , 'base...   \n",
              "\n",
              "                                         right_title  \\\n",
              "0  [ 'prevalence ' , 'of ' , 'computer ' , 'visio...   \n",
              "1  [ 'deep ' , 'learning-enabled ' , 'medical ' ,...   \n",
              "2  [ ' a ' , 'computer ' , 'vision ' , 'approach ...   \n",
              "3  [ ' a ' , 'computer ' , 'vision-based ' , 'app...   \n",
              "4  [ 'computer ' , 'vision-based ' , 'platform ' ...   \n",
              "\n",
              "                                       left_keywords  \\\n",
              "0  [ 'agriculture ' , 'computer vision ' , 'machi...   \n",
              "1  [ 'artificial intelligent ' , 'deep learning '...   \n",
              "2  [ 'animal health ' , 'animal monitoring ' , 'c...   \n",
              "3  [ 'computer vision ' , 'convolution neural net...   \n",
              "4  [ 'deep learning ' , 'machine learning ' , 'pl...   \n",
              "\n",
              "                                      right_keywords  label    id  \n",
              "0  [ 'computer vision syndrome ' , 'ergonomics ' ...      0   948  \n",
              "1  [ 'computer vision ' , 'machine perception ' ,...      0  1138  \n",
              "2  [ 'computer vision ' , 'ixodes scapularis ' , ...      0   842  \n",
              "3  [ 'computer vision ' , 'medical entomology ' ,...      1   126  \n",
              "4  [ 'computer vision ' , 'image processing ' , '...      0  1215  "
            ],
            "text/html": [
              "\n",
              "  <div id=\"df-eaf401b5-61ce-4bd1-ac5a-f57d69e967b7\">\n",
              "    <div class=\"colab-df-container\">\n",
              "      <div>\n",
              "<style scoped>\n",
              "    .dataframe tbody tr th:only-of-type {\n",
              "        vertical-align: middle;\n",
              "    }\n",
              "\n",
              "    .dataframe tbody tr th {\n",
              "        vertical-align: top;\n",
              "    }\n",
              "\n",
              "    .dataframe thead th {\n",
              "        text-align: right;\n",
              "    }\n",
              "</style>\n",
              "<table border=\"1\" class=\"dataframe\">\n",
              "  <thead>\n",
              "    <tr style=\"text-align: right;\">\n",
              "      <th></th>\n",
              "      <th>left_authors</th>\n",
              "      <th>right_authors</th>\n",
              "      <th>left_title</th>\n",
              "      <th>right_title</th>\n",
              "      <th>left_keywords</th>\n",
              "      <th>right_keywords</th>\n",
              "      <th>label</th>\n",
              "      <th>id</th>\n",
              "    </tr>\n",
              "  </thead>\n",
              "  <tbody>\n",
              "    <tr>\n",
              "      <th>0</th>\n",
              "      <td>[ 'paul a ' , 'ghosh s ' , 'das ak ' , 'goswam...</td>\n",
              "      <td>[ 'sánchez-brau m ' , 'domenech-amigot b ' , '...</td>\n",
              "      <td>[ ' a ' , 'review ' , 'on ' , 'agricultural ' ...</td>\n",
              "      <td>[ 'prevalence ' , 'of ' , 'computer ' , 'visio...</td>\n",
              "      <td>[ 'agriculture ' , 'computer vision ' , 'machi...</td>\n",
              "      <td>[ 'computer vision syndrome ' , 'ergonomics ' ...</td>\n",
              "      <td>0</td>\n",
              "      <td>948</td>\n",
              "    </tr>\n",
              "    <tr>\n",
              "      <th>1</th>\n",
              "      <td>[ 'khemasuwan d ' , 'sorensen js ' , 'colt hg ' ]</td>\n",
              "      <td>[ 'esteva a ' , 'chou k ' , 'yeung s ' , 'naik...</td>\n",
              "      <td>[ 'artificial ' , 'intelligence ' , 'in ' , 'p...</td>\n",
              "      <td>[ 'deep ' , 'learning-enabled ' , 'medical ' ,...</td>\n",
              "      <td>[ 'artificial intelligent ' , 'deep learning '...</td>\n",
              "      <td>[ 'computer vision ' , 'machine perception ' ,...</td>\n",
              "      <td>0</td>\n",
              "      <td>1138</td>\n",
              "    </tr>\n",
              "    <tr>\n",
              "      <th>2</th>\n",
              "      <td>[ 'jorquera-chavez m ' , 'fuentes s ' , 'dunsh...</td>\n",
              "      <td>[ 'akbarian s ' , 'nelder mp ' , 'russell cb '...</td>\n",
              "      <td>[ 'using ' , 'imagery ' , 'and ' , 'computer '...</td>\n",
              "      <td>[ ' a ' , 'computer ' , 'vision ' , 'approach ...</td>\n",
              "      <td>[ 'animal health ' , 'animal monitoring ' , 'c...</td>\n",
              "      <td>[ 'computer vision ' , 'ixodes scapularis ' , ...</td>\n",
              "      <td>0</td>\n",
              "      <td>842</td>\n",
              "    </tr>\n",
              "    <tr>\n",
              "      <th>3</th>\n",
              "      <td>[ 'akbarian s ' , 'cawston t ' , 'moreno l ' ,...</td>\n",
              "      <td>[ 'luo c ' , 'pearson p ' , 'xu g ' , 'rich sm...</td>\n",
              "      <td>[ ' a ' , 'computer ' , 'vision ' , 'approach ...</td>\n",
              "      <td>[ ' a ' , 'computer ' , 'vision-based ' , 'app...</td>\n",
              "      <td>[ 'computer vision ' , 'convolution neural net...</td>\n",
              "      <td>[ 'computer vision ' , 'medical entomology ' ,...</td>\n",
              "      <td>1</td>\n",
              "      <td>126</td>\n",
              "    </tr>\n",
              "    <tr>\n",
              "      <th>4</th>\n",
              "      <td>[ 'alguliyev r ' , 'imamverdiyev y ' , 'sukhos...</td>\n",
              "      <td>[ 'uryasheva a ' , 'kalashnikova a ' , 'shadri...</td>\n",
              "      <td>[ 'plant ' , 'disease ' , 'detection ' , 'base...</td>\n",
              "      <td>[ 'computer ' , 'vision-based ' , 'platform ' ...</td>\n",
              "      <td>[ 'deep learning ' , 'machine learning ' , 'pl...</td>\n",
              "      <td>[ 'computer vision ' , 'image processing ' , '...</td>\n",
              "      <td>0</td>\n",
              "      <td>1215</td>\n",
              "    </tr>\n",
              "  </tbody>\n",
              "</table>\n",
              "</div>\n",
              "      <button class=\"colab-df-convert\" onclick=\"convertToInteractive('df-eaf401b5-61ce-4bd1-ac5a-f57d69e967b7')\"\n",
              "              title=\"Convert this dataframe to an interactive table.\"\n",
              "              style=\"display:none;\">\n",
              "        \n",
              "  <svg xmlns=\"http://www.w3.org/2000/svg\" height=\"24px\"viewBox=\"0 0 24 24\"\n",
              "       width=\"24px\">\n",
              "    <path d=\"M0 0h24v24H0V0z\" fill=\"none\"/>\n",
              "    <path d=\"M18.56 5.44l.94 2.06.94-2.06 2.06-.94-2.06-.94-.94-2.06-.94 2.06-2.06.94zm-11 1L8.5 8.5l.94-2.06 2.06-.94-2.06-.94L8.5 2.5l-.94 2.06-2.06.94zm10 10l.94 2.06.94-2.06 2.06-.94-2.06-.94-.94-2.06-.94 2.06-2.06.94z\"/><path d=\"M17.41 7.96l-1.37-1.37c-.4-.4-.92-.59-1.43-.59-.52 0-1.04.2-1.43.59L10.3 9.45l-7.72 7.72c-.78.78-.78 2.05 0 2.83L4 21.41c.39.39.9.59 1.41.59.51 0 1.02-.2 1.41-.59l7.78-7.78 2.81-2.81c.8-.78.8-2.07 0-2.86zM5.41 20L4 18.59l7.72-7.72 1.47 1.35L5.41 20z\"/>\n",
              "  </svg>\n",
              "      </button>\n",
              "      \n",
              "  <style>\n",
              "    .colab-df-container {\n",
              "      display:flex;\n",
              "      flex-wrap:wrap;\n",
              "      gap: 12px;\n",
              "    }\n",
              "\n",
              "    .colab-df-convert {\n",
              "      background-color: #E8F0FE;\n",
              "      border: none;\n",
              "      border-radius: 50%;\n",
              "      cursor: pointer;\n",
              "      display: none;\n",
              "      fill: #1967D2;\n",
              "      height: 32px;\n",
              "      padding: 0 0 0 0;\n",
              "      width: 32px;\n",
              "    }\n",
              "\n",
              "    .colab-df-convert:hover {\n",
              "      background-color: #E2EBFA;\n",
              "      box-shadow: 0px 1px 2px rgba(60, 64, 67, 0.3), 0px 1px 3px 1px rgba(60, 64, 67, 0.15);\n",
              "      fill: #174EA6;\n",
              "    }\n",
              "\n",
              "    [theme=dark] .colab-df-convert {\n",
              "      background-color: #3B4455;\n",
              "      fill: #D2E3FC;\n",
              "    }\n",
              "\n",
              "    [theme=dark] .colab-df-convert:hover {\n",
              "      background-color: #434B5C;\n",
              "      box-shadow: 0px 1px 3px 1px rgba(0, 0, 0, 0.15);\n",
              "      filter: drop-shadow(0px 1px 2px rgba(0, 0, 0, 0.3));\n",
              "      fill: #FFFFFF;\n",
              "    }\n",
              "  </style>\n",
              "\n",
              "      <script>\n",
              "        const buttonEl =\n",
              "          document.querySelector('#df-eaf401b5-61ce-4bd1-ac5a-f57d69e967b7 button.colab-df-convert');\n",
              "        buttonEl.style.display =\n",
              "          google.colab.kernel.accessAllowed ? 'block' : 'none';\n",
              "\n",
              "        async function convertToInteractive(key) {\n",
              "          const element = document.querySelector('#df-eaf401b5-61ce-4bd1-ac5a-f57d69e967b7');\n",
              "          const dataTable =\n",
              "            await google.colab.kernel.invokeFunction('convertToInteractive',\n",
              "                                                     [key], {});\n",
              "          if (!dataTable) return;\n",
              "\n",
              "          const docLinkHtml = 'Like what you see? Visit the ' +\n",
              "            '<a target=\"_blank\" href=https://colab.research.google.com/notebooks/data_table.ipynb>data table notebook</a>'\n",
              "            + ' to learn more about interactive tables.';\n",
              "          element.innerHTML = '';\n",
              "          dataTable['output_type'] = 'display_data';\n",
              "          await google.colab.output.renderOutput(dataTable, element);\n",
              "          const docLink = document.createElement('div');\n",
              "          docLink.innerHTML = docLinkHtml;\n",
              "          element.appendChild(docLink);\n",
              "        }\n",
              "      </script>\n",
              "    </div>\n",
              "  </div>\n",
              "  "
            ]
          },
          "metadata": {},
          "execution_count": 9
        }
      ]
    },
    {
      "cell_type": "code",
      "source": [
        "model = dm.MatchingModel(attr_summarizer='hybrid')\n",
        "\n",
        "model.run_train(\n",
        "    train,\n",
        "    validation,\n",
        "    epochs=10,\n",
        "    batch_size=16,\n",
        "    best_save_path='hybrid_model.pth',\n",
        "    pos_neg_ratio=17)"
      ],
      "metadata": {
        "colab": {
          "base_uri": "https://localhost:8080/"
        },
        "id": "miAV5_06IbSI",
        "outputId": "57e78a37-f467-4a9e-9574-6eacf4ece1c8"
      },
      "execution_count": null,
      "outputs": [
        {
          "output_type": "stream",
          "name": "stderr",
          "text": [
            "/usr/local/lib/python3.9/dist-packages/torch/nn/modules/module.py:770: UserWarning: Using non-full backward hooks on a Module that does not take as input a single Tensor or a tuple of Tensors is deprecated and will be removed in future versions. This hook will be missing some of the grad_input. Please use register_full_backward_hook to get the documented behavior.\n",
            "  warnings.warn(\"Using non-full backward hooks on a Module that does not take as input a \"\n",
            "/usr/local/lib/python3.9/dist-packages/torch/nn/modules/module.py:795: UserWarning: Using a non-full backward hook when the forward contains multiple autograd Nodes is deprecated and will be removed in future versions. This hook will be missing some grad_input. Please use register_full_backward_hook to get the documented behavior.\n",
            "  warnings.warn(\"Using a non-full backward hook when the forward contains multiple autograd Nodes \"\n"
          ]
        },
        {
          "output_type": "stream",
          "name": "stdout",
          "text": [
            "* Number of trainable parameters: 7133105\n",
            "===>  TRAIN Epoch 1\n"
          ]
        },
        {
          "output_type": "stream",
          "name": "stderr",
          "text": [
            "/usr/local/lib/python3.9/dist-packages/torch/nn/modules/module.py:760: UserWarning: Using non-full backward hooks on a Module that does not return a single Tensor or a tuple of Tensors is deprecated and will be removed in future versions. This hook will be missing some of the grad_output. Please use register_full_backward_hook to get the documented behavior.\n",
            "  warnings.warn(\"Using non-full backward hooks on a Module that does not return a \"\n",
            "/usr/local/lib/python3.9/dist-packages/torch/nn/functional.py:2607: UserWarning: reduction: 'mean' divides the total loss by both the batch size and the support size.'batchmean' divides only by the batch size, and aligns with the KL div math definition.'mean' will be changed to behave the same as 'batchmean' in the next major release.\n",
            "  warnings.warn(\n",
            "0% [█████████] 100% | ETA: 00:00:00\n",
            "Total time elapsed: 00:03:29\n"
          ]
        },
        {
          "output_type": "stream",
          "name": "stdout",
          "text": [
            "Finished Epoch 1 || Run Time:  216.1 | Load Time:    0.5 || F1:  16.76 | Prec:   9.17 | Rec:  96.92 || Ex/s:   3.39\n",
            "\n",
            "===>  EVAL Epoch 1\n"
          ]
        },
        {
          "output_type": "stream",
          "name": "stderr",
          "text": [
            "0% [███] 100% | ETA: 00:00:00\n",
            "Total time elapsed: 00:00:25\n"
          ]
        },
        {
          "output_type": "stream",
          "name": "stdout",
          "text": [
            "Finished Epoch 1 || Run Time:   26.0 | Load Time:    0.2 || F1:  13.69 | Prec:   7.35 | Rec: 100.00 || Ex/s:   9.37\n",
            "\n",
            "* Best F1: tensor(13.6882)\n",
            "Saving best model...\n",
            "Done.\n",
            "---------------------\n",
            "\n",
            "===>  TRAIN Epoch 2\n"
          ]
        },
        {
          "output_type": "stream",
          "name": "stderr",
          "text": [
            "0% [█████████] 100% | ETA: 00:00:00\n",
            "Total time elapsed: 00:03:21\n"
          ]
        },
        {
          "output_type": "stream",
          "name": "stdout",
          "text": [
            "Finished Epoch 2 || Run Time:  207.8 | Load Time:    0.5 || F1:  16.25 | Prec:   8.84 | Rec: 100.00 || Ex/s:   3.53\n",
            "\n",
            "===>  EVAL Epoch 2\n"
          ]
        },
        {
          "output_type": "stream",
          "name": "stderr",
          "text": [
            "0% [███] 100% | ETA: 00:00:00\n",
            "Total time elapsed: 00:00:24\n"
          ]
        },
        {
          "output_type": "stream",
          "name": "stdout",
          "text": [
            "Finished Epoch 2 || Run Time:   24.9 | Load Time:    0.2 || F1:  13.69 | Prec:   7.35 | Rec: 100.00 || Ex/s:   9.79\n",
            "\n",
            "---------------------\n",
            "\n",
            "===>  TRAIN Epoch 3\n"
          ]
        },
        {
          "output_type": "stream",
          "name": "stderr",
          "text": [
            "0% [█████████] 100% | ETA: 00:00:00\n",
            "Total time elapsed: 00:03:17\n"
          ]
        },
        {
          "output_type": "stream",
          "name": "stdout",
          "text": [
            "Finished Epoch 3 || Run Time:  204.8 | Load Time:    0.5 || F1:  16.25 | Prec:   8.84 | Rec: 100.00 || Ex/s:   3.58\n",
            "\n",
            "===>  EVAL Epoch 3\n"
          ]
        },
        {
          "output_type": "stream",
          "name": "stderr",
          "text": [
            "0% [███] 100% | ETA: 00:00:00\n",
            "Total time elapsed: 00:00:23\n"
          ]
        },
        {
          "output_type": "stream",
          "name": "stdout",
          "text": [
            "Finished Epoch 3 || Run Time:   23.9 | Load Time:    0.2 || F1:  13.69 | Prec:   7.35 | Rec: 100.00 || Ex/s:  10.18\n",
            "\n",
            "---------------------\n",
            "\n",
            "===>  TRAIN Epoch 4\n"
          ]
        },
        {
          "output_type": "stream",
          "name": "stderr",
          "text": [
            "0% [█████████] 100% | ETA: 00:00:00\n",
            "Total time elapsed: 00:03:17\n"
          ]
        },
        {
          "output_type": "stream",
          "name": "stdout",
          "text": [
            "Finished Epoch 4 || Run Time:  204.0 | Load Time:    0.5 || F1:  17.26 | Prec:   9.45 | Rec: 100.00 || Ex/s:   3.59\n",
            "\n",
            "===>  EVAL Epoch 4\n"
          ]
        },
        {
          "output_type": "stream",
          "name": "stderr",
          "text": [
            "0% [███] 100% | ETA: 00:00:00\n",
            "Total time elapsed: 00:00:25\n"
          ]
        },
        {
          "output_type": "stream",
          "name": "stdout",
          "text": [
            "Finished Epoch 4 || Run Time:   25.7 | Load Time:    0.2 || F1:  15.71 | Prec:   8.67 | Rec:  83.33 || Ex/s:   9.46\n",
            "\n",
            "* Best F1: tensor(15.7068)\n",
            "Saving best model...\n",
            "Done.\n",
            "---------------------\n",
            "\n",
            "===>  TRAIN Epoch 5\n"
          ]
        },
        {
          "output_type": "stream",
          "name": "stderr",
          "text": [
            "0% [█████████] 100% | ETA: 00:00:00\n",
            "Total time elapsed: 00:03:16\n"
          ]
        },
        {
          "output_type": "stream",
          "name": "stdout",
          "text": [
            "Finished Epoch 5 || Run Time:  203.8 | Load Time:    0.5 || F1:  20.73 | Prec:  11.57 | Rec: 100.00 || Ex/s:   3.60\n",
            "\n",
            "===>  EVAL Epoch 5\n"
          ]
        },
        {
          "output_type": "stream",
          "name": "stderr",
          "text": [
            "0% [███] 100% | ETA: 00:00:00\n",
            "Total time elapsed: 00:00:25\n"
          ]
        },
        {
          "output_type": "stream",
          "name": "stdout",
          "text": [
            "Finished Epoch 5 || Run Time:   25.9 | Load Time:    0.2 || F1:  15.91 | Prec:   8.86 | Rec:  77.78 || Ex/s:   9.39\n",
            "\n",
            "* Best F1: tensor(15.9091)\n",
            "Saving best model...\n",
            "Done.\n",
            "---------------------\n",
            "\n",
            "===>  TRAIN Epoch 6\n"
          ]
        },
        {
          "output_type": "stream",
          "name": "stderr",
          "text": [
            "0% [█████████] 100% | ETA: 00:00:00\n",
            "Total time elapsed: 00:03:17\n"
          ]
        },
        {
          "output_type": "stream",
          "name": "stdout",
          "text": [
            "Finished Epoch 6 || Run Time:  203.3 | Load Time:    0.5 || F1:  25.24 | Prec:  14.44 | Rec: 100.00 || Ex/s:   3.61\n",
            "\n",
            "===>  EVAL Epoch 6\n"
          ]
        },
        {
          "output_type": "stream",
          "name": "stderr",
          "text": [
            "0% [███] 100% | ETA: 00:00:00\n",
            "Total time elapsed: 00:00:26\n"
          ]
        },
        {
          "output_type": "stream",
          "name": "stdout",
          "text": [
            "Finished Epoch 6 || Run Time:   26.4 | Load Time:    0.2 || F1:  15.47 | Prec:   8.59 | Rec:  77.78 || Ex/s:   9.22\n",
            "\n",
            "---------------------\n",
            "\n",
            "===>  TRAIN Epoch 7\n"
          ]
        },
        {
          "output_type": "stream",
          "name": "stderr",
          "text": [
            "0% [█████████] 100% | ETA: 00:00:00\n",
            "Total time elapsed: 00:03:17\n"
          ]
        },
        {
          "output_type": "stream",
          "name": "stdout",
          "text": [
            "Finished Epoch 7 || Run Time:  204.8 | Load Time:    0.5 || F1:  31.18 | Prec:  18.47 | Rec: 100.00 || Ex/s:   3.58\n",
            "\n",
            "===>  EVAL Epoch 7\n"
          ]
        },
        {
          "output_type": "stream",
          "name": "stderr",
          "text": [
            "0% [███] 100% | ETA: 00:00:00\n",
            "Total time elapsed: 00:00:25\n"
          ]
        },
        {
          "output_type": "stream",
          "name": "stdout",
          "text": [
            "Finished Epoch 7 || Run Time:   25.9 | Load Time:    0.2 || F1:  17.65 | Prec:  10.71 | Rec:  50.00 || Ex/s:   9.41\n",
            "\n",
            "* Best F1: tensor(17.6471)\n",
            "Saving best model...\n",
            "Done.\n",
            "---------------------\n",
            "\n",
            "===>  TRAIN Epoch 8\n"
          ]
        },
        {
          "output_type": "stream",
          "name": "stderr",
          "text": [
            "0% [█████████] 100% | ETA: 00:00:00\n",
            "Total time elapsed: 00:03:16\n"
          ]
        },
        {
          "output_type": "stream",
          "name": "stdout",
          "text": [
            "Finished Epoch 8 || Run Time:  204.7 | Load Time:    0.5 || F1:  40.50 | Prec:  25.39 | Rec: 100.00 || Ex/s:   3.58\n",
            "\n",
            "===>  EVAL Epoch 8\n"
          ]
        },
        {
          "output_type": "stream",
          "name": "stderr",
          "text": [
            "0% [███] 100% | ETA: 00:00:00\n",
            "Total time elapsed: 00:00:23\n"
          ]
        },
        {
          "output_type": "stream",
          "name": "stdout",
          "text": [
            "Finished Epoch 8 || Run Time:   24.4 | Load Time:    0.2 || F1:  14.89 | Prec:   9.21 | Rec:  38.89 || Ex/s:   9.98\n",
            "\n",
            "---------------------\n",
            "\n",
            "===>  TRAIN Epoch 9\n"
          ]
        },
        {
          "output_type": "stream",
          "name": "stderr",
          "text": [
            "0% [█████████] 100% | ETA: 00:00:00\n",
            "Total time elapsed: 00:03:17\n"
          ]
        },
        {
          "output_type": "stream",
          "name": "stdout",
          "text": [
            "Finished Epoch 9 || Run Time:  205.3 | Load Time:    0.5 || F1:  43.05 | Prec:  27.43 | Rec: 100.00 || Ex/s:   3.57\n",
            "\n",
            "===>  EVAL Epoch 9\n"
          ]
        },
        {
          "output_type": "stream",
          "name": "stderr",
          "text": [
            "0% [███] 100% | ETA: 00:00:00\n",
            "Total time elapsed: 00:00:24\n"
          ]
        },
        {
          "output_type": "stream",
          "name": "stdout",
          "text": [
            "Finished Epoch 9 || Run Time:   24.8 | Load Time:    0.1 || F1:  19.72 | Prec:  13.21 | Rec:  38.89 || Ex/s:   9.81\n",
            "\n",
            "* Best F1: tensor(19.7183)\n",
            "Saving best model...\n",
            "Done.\n",
            "---------------------\n",
            "\n",
            "===>  TRAIN Epoch 10\n"
          ]
        },
        {
          "output_type": "stream",
          "name": "stderr",
          "text": [
            "0% [█████████] 100% | ETA: 00:00:00\n",
            "Total time elapsed: 00:03:17\n"
          ]
        },
        {
          "output_type": "stream",
          "name": "stdout",
          "text": [
            "Finished Epoch 10 || Run Time:  205.9 | Load Time:    0.5 || F1:  51.18 | Prec:  34.39 | Rec: 100.00 || Ex/s:   3.56\n",
            "\n",
            "===>  EVAL Epoch 10\n"
          ]
        },
        {
          "output_type": "stream",
          "name": "stderr",
          "text": [
            "0% [███] 100% | ETA: 00:00:00\n",
            "Total time elapsed: 00:00:24\n"
          ]
        },
        {
          "output_type": "stream",
          "name": "stdout",
          "text": [
            "Finished Epoch 10 || Run Time:   24.7 | Load Time:    0.1 || F1:  21.87 | Prec:  15.22 | Rec:  38.89 || Ex/s:   9.86\n",
            "\n",
            "* Best F1: tensor(21.8750)\n",
            "Saving best model...\n",
            "Done.\n",
            "---------------------\n",
            "\n",
            "Loading best model...\n",
            "Training done.\n"
          ]
        },
        {
          "output_type": "execute_result",
          "data": {
            "text/plain": [
              "tensor(21.8750)"
            ]
          },
          "metadata": {},
          "execution_count": 10
        }
      ]
    },
    {
      "cell_type": "code",
      "source": [
        "unlabeled = dm.data.process_unlabeled(\n",
        "    path='unlabeled.csv',\n",
        "    trained_model=model)"
      ],
      "metadata": {
        "colab": {
          "base_uri": "https://localhost:8080/"
        },
        "id": "xXJEDMer9_sl",
        "outputId": "57e6f7eb-dab3-4e24-a201-f4028db1ae48"
      },
      "execution_count": null,
      "outputs": [
        {
          "output_type": "stream",
          "name": "stderr",
          "text": [
            "\n",
            "Reading and processing data from \"unlabeled.csv\"\n",
            "0% [############################# ] 100% | ETA: 00:00:00"
          ]
        }
      ]
    },
    {
      "cell_type": "code",
      "source": [
        "predictions = model.run_prediction(unlabeled)\n",
        "predictions.head()"
      ],
      "metadata": {
        "colab": {
          "base_uri": "https://localhost:8080/",
          "height": 324
        },
        "id": "jTqze8Au-Gd8",
        "outputId": "8abf38b7-6d58-45a8-e6b8-594e0e1e5d2c"
      },
      "execution_count": null,
      "outputs": [
        {
          "output_type": "stream",
          "name": "stdout",
          "text": [
            "===>  PREDICT Epoch 10\n"
          ]
        },
        {
          "output_type": "stream",
          "name": "stderr",
          "text": [
            "0% [███████] 100% | ETA: 00:00:00\n",
            "Total time elapsed: 00:00:59\n"
          ]
        },
        {
          "output_type": "stream",
          "name": "stdout",
          "text": [
            "Finished Epoch 10 || Run Time:   65.1 | Load Time:    0.7 || F1:   0.00 | Prec:   0.00 | Rec:   0.00 || Ex/s:   0.00\n",
            "\n"
          ]
        },
        {
          "output_type": "execute_result",
          "data": {
            "text/plain": [
              "    match_score\n",
              "id             \n",
              "1      0.926319\n",
              "2      0.638169\n",
              "3      0.698888\n",
              "4      0.767870\n",
              "5      0.524586"
            ],
            "text/html": [
              "\n",
              "  <div id=\"df-8be269a9-b362-45b6-8361-b26662d21ae9\">\n",
              "    <div class=\"colab-df-container\">\n",
              "      <div>\n",
              "<style scoped>\n",
              "    .dataframe tbody tr th:only-of-type {\n",
              "        vertical-align: middle;\n",
              "    }\n",
              "\n",
              "    .dataframe tbody tr th {\n",
              "        vertical-align: top;\n",
              "    }\n",
              "\n",
              "    .dataframe thead th {\n",
              "        text-align: right;\n",
              "    }\n",
              "</style>\n",
              "<table border=\"1\" class=\"dataframe\">\n",
              "  <thead>\n",
              "    <tr style=\"text-align: right;\">\n",
              "      <th></th>\n",
              "      <th>match_score</th>\n",
              "    </tr>\n",
              "    <tr>\n",
              "      <th>id</th>\n",
              "      <th></th>\n",
              "    </tr>\n",
              "  </thead>\n",
              "  <tbody>\n",
              "    <tr>\n",
              "      <th>1</th>\n",
              "      <td>0.926319</td>\n",
              "    </tr>\n",
              "    <tr>\n",
              "      <th>2</th>\n",
              "      <td>0.638169</td>\n",
              "    </tr>\n",
              "    <tr>\n",
              "      <th>3</th>\n",
              "      <td>0.698888</td>\n",
              "    </tr>\n",
              "    <tr>\n",
              "      <th>4</th>\n",
              "      <td>0.767870</td>\n",
              "    </tr>\n",
              "    <tr>\n",
              "      <th>5</th>\n",
              "      <td>0.524586</td>\n",
              "    </tr>\n",
              "  </tbody>\n",
              "</table>\n",
              "</div>\n",
              "      <button class=\"colab-df-convert\" onclick=\"convertToInteractive('df-8be269a9-b362-45b6-8361-b26662d21ae9')\"\n",
              "              title=\"Convert this dataframe to an interactive table.\"\n",
              "              style=\"display:none;\">\n",
              "        \n",
              "  <svg xmlns=\"http://www.w3.org/2000/svg\" height=\"24px\"viewBox=\"0 0 24 24\"\n",
              "       width=\"24px\">\n",
              "    <path d=\"M0 0h24v24H0V0z\" fill=\"none\"/>\n",
              "    <path d=\"M18.56 5.44l.94 2.06.94-2.06 2.06-.94-2.06-.94-.94-2.06-.94 2.06-2.06.94zm-11 1L8.5 8.5l.94-2.06 2.06-.94-2.06-.94L8.5 2.5l-.94 2.06-2.06.94zm10 10l.94 2.06.94-2.06 2.06-.94-2.06-.94-.94-2.06-.94 2.06-2.06.94z\"/><path d=\"M17.41 7.96l-1.37-1.37c-.4-.4-.92-.59-1.43-.59-.52 0-1.04.2-1.43.59L10.3 9.45l-7.72 7.72c-.78.78-.78 2.05 0 2.83L4 21.41c.39.39.9.59 1.41.59.51 0 1.02-.2 1.41-.59l7.78-7.78 2.81-2.81c.8-.78.8-2.07 0-2.86zM5.41 20L4 18.59l7.72-7.72 1.47 1.35L5.41 20z\"/>\n",
              "  </svg>\n",
              "      </button>\n",
              "      \n",
              "  <style>\n",
              "    .colab-df-container {\n",
              "      display:flex;\n",
              "      flex-wrap:wrap;\n",
              "      gap: 12px;\n",
              "    }\n",
              "\n",
              "    .colab-df-convert {\n",
              "      background-color: #E8F0FE;\n",
              "      border: none;\n",
              "      border-radius: 50%;\n",
              "      cursor: pointer;\n",
              "      display: none;\n",
              "      fill: #1967D2;\n",
              "      height: 32px;\n",
              "      padding: 0 0 0 0;\n",
              "      width: 32px;\n",
              "    }\n",
              "\n",
              "    .colab-df-convert:hover {\n",
              "      background-color: #E2EBFA;\n",
              "      box-shadow: 0px 1px 2px rgba(60, 64, 67, 0.3), 0px 1px 3px 1px rgba(60, 64, 67, 0.15);\n",
              "      fill: #174EA6;\n",
              "    }\n",
              "\n",
              "    [theme=dark] .colab-df-convert {\n",
              "      background-color: #3B4455;\n",
              "      fill: #D2E3FC;\n",
              "    }\n",
              "\n",
              "    [theme=dark] .colab-df-convert:hover {\n",
              "      background-color: #434B5C;\n",
              "      box-shadow: 0px 1px 3px 1px rgba(0, 0, 0, 0.15);\n",
              "      filter: drop-shadow(0px 1px 2px rgba(0, 0, 0, 0.3));\n",
              "      fill: #FFFFFF;\n",
              "    }\n",
              "  </style>\n",
              "\n",
              "      <script>\n",
              "        const buttonEl =\n",
              "          document.querySelector('#df-8be269a9-b362-45b6-8361-b26662d21ae9 button.colab-df-convert');\n",
              "        buttonEl.style.display =\n",
              "          google.colab.kernel.accessAllowed ? 'block' : 'none';\n",
              "\n",
              "        async function convertToInteractive(key) {\n",
              "          const element = document.querySelector('#df-8be269a9-b362-45b6-8361-b26662d21ae9');\n",
              "          const dataTable =\n",
              "            await google.colab.kernel.invokeFunction('convertToInteractive',\n",
              "                                                     [key], {});\n",
              "          if (!dataTable) return;\n",
              "\n",
              "          const docLinkHtml = 'Like what you see? Visit the ' +\n",
              "            '<a target=\"_blank\" href=https://colab.research.google.com/notebooks/data_table.ipynb>data table notebook</a>'\n",
              "            + ' to learn more about interactive tables.';\n",
              "          element.innerHTML = '';\n",
              "          dataTable['output_type'] = 'display_data';\n",
              "          await google.colab.output.renderOutput(dataTable, element);\n",
              "          const docLink = document.createElement('div');\n",
              "          docLink.innerHTML = docLinkHtml;\n",
              "          element.appendChild(docLink);\n",
              "        }\n",
              "      </script>\n",
              "    </div>\n",
              "  </div>\n",
              "  "
            ]
          },
          "metadata": {},
          "execution_count": 17
        }
      ]
    },
    {
      "cell_type": "code",
      "source": [
        "predictions = model.run_prediction(unlabeled, output_attributes=True)\n",
        "predictions.head()"
      ],
      "metadata": {
        "colab": {
          "base_uri": "https://localhost:8080/",
          "height": 666
        },
        "id": "sIzseY57-KyJ",
        "outputId": "826ad989-9e7b-4477-8362-0c11578861be"
      },
      "execution_count": null,
      "outputs": [
        {
          "output_type": "stream",
          "name": "stdout",
          "text": [
            "===>  PREDICT Epoch 10\n"
          ]
        },
        {
          "output_type": "stream",
          "name": "stderr",
          "text": [
            "/usr/local/lib/python3.9/dist-packages/torch/nn/modules/module.py:795: UserWarning: Using a non-full backward hook when the forward contains multiple autograd Nodes is deprecated and will be removed in future versions. This hook will be missing some grad_input. Please use register_full_backward_hook to get the documented behavior.\n",
            "  warnings.warn(\"Using a non-full backward hook when the forward contains multiple autograd Nodes \"\n",
            "/usr/local/lib/python3.9/dist-packages/torch/nn/modules/module.py:770: UserWarning: Using non-full backward hooks on a Module that does not take as input a single Tensor or a tuple of Tensors is deprecated and will be removed in future versions. This hook will be missing some of the grad_input. Please use register_full_backward_hook to get the documented behavior.\n",
            "  warnings.warn(\"Using non-full backward hooks on a Module that does not take as input a \"\n",
            "/usr/local/lib/python3.9/dist-packages/torch/nn/modules/module.py:760: UserWarning: Using non-full backward hooks on a Module that does not return a single Tensor or a tuple of Tensors is deprecated and will be removed in future versions. This hook will be missing some of the grad_output. Please use register_full_backward_hook to get the documented behavior.\n",
            "  warnings.warn(\"Using non-full backward hooks on a Module that does not return a \"\n",
            "0% [███████] 100% | ETA: 00:00:00\n",
            "Total time elapsed: 00:00:59\n"
          ]
        },
        {
          "output_type": "stream",
          "name": "stdout",
          "text": [
            "Finished Epoch 10 || Run Time:   64.0 | Load Time:    0.7 || F1:   0.00 | Prec:   0.00 | Rec:   0.00 || Ex/s:   0.00\n",
            "\n"
          ]
        },
        {
          "output_type": "execute_result",
          "data": {
            "text/plain": [
              "    match_score                                       left_authors  \\\n",
              "id                                                                   \n",
              "1      0.926319       ['abudawood ga', 'ashi hm', 'almarzouki nk']   \n",
              "2      0.638169  ['akbarian s', 'cawston t', 'moreno l', 'patel...   \n",
              "3      0.698888  ['an r', 'man y', 'iram s', 'kucukal e', 'hasa...   \n",
              "4      0.767870   ['punia r', 'kumar l', 'mujahid m', 'rohilla r']   \n",
              "5      0.524586  ['paul a', 'ghosh s', 'das ak', 'goswami s', '...   \n",
              "\n",
              "                                        right_authors  \\\n",
              "id                                                      \n",
              "1   ['sánchez-valerio mr', 'mohamed-noriega k', 'z...   \n",
              "2   ['akbarian s', 'nelder mp', 'russell cb', 'caw...   \n",
              "3                        ['vinitha v', 'velantina v']   \n",
              "4                        ['vinitha v', 'velantina v']   \n",
              "5                ['khan aa', 'laghari aa', 'awan sa']   \n",
              "\n",
              "                                           left_title  \\\n",
              "id                                                      \n",
              "1   ['computer', 'vision', 'syndrome', 'among', 'u...   \n",
              "2   ['a', 'computer', 'vision', 'approach', 'to', ...   \n",
              "3   ['computer', 'vision', 'and', 'deep', 'learnin...   \n",
              "4   ['computer', 'vision', 'and', 'radiology', 'fo...   \n",
              "5   ['a', 'review', 'on', 'agricultural', 'advance...   \n",
              "\n",
              "                                          right_title  \\\n",
              "id                                                      \n",
              "1   ['dry', 'eye', 'disease', 'association', 'with...   \n",
              "2   ['a', 'computer', 'vision', 'approach', 'to', ...   \n",
              "3   ['covid-19', 'facemask', 'detection', 'with', ...   \n",
              "4   ['covid-19', 'facemask', 'detection', 'with', ...   \n",
              "5   ['machine', 'learning', 'in', 'computer', 'vis...   \n",
              "\n",
              "                                        left_keywords  \\\n",
              "id                                                      \n",
              "1     ['computer vision syndrome', 'dry eye disease']   \n",
              "2   ['computer vision', 'convolution neural networ...   \n",
              "3   ['anemia', 'artificial neural network', 'compu...   \n",
              "4        ['covid-19', 'computer vision', 'radiology']   \n",
              "5   ['agriculture', 'computer vision', 'machine le...   \n",
              "\n",
              "                                       right_keywords  \n",
              "id                                                     \n",
              "1     ['computer vision syndrome', 'dry eye disease']  \n",
              "2   ['computer vision', 'ixodes scapularis', 'lyme...  \n",
              "3      ['computer vision', 'deep learning', 'opencv']  \n",
              "4      ['computer vision', 'deep learning', 'opencv']  \n",
              "5   ['computer vision', 'feature extraction', 'mac...  "
            ],
            "text/html": [
              "\n",
              "  <div id=\"df-34572f14-4791-4313-a083-46dbc6166915\">\n",
              "    <div class=\"colab-df-container\">\n",
              "      <div>\n",
              "<style scoped>\n",
              "    .dataframe tbody tr th:only-of-type {\n",
              "        vertical-align: middle;\n",
              "    }\n",
              "\n",
              "    .dataframe tbody tr th {\n",
              "        vertical-align: top;\n",
              "    }\n",
              "\n",
              "    .dataframe thead th {\n",
              "        text-align: right;\n",
              "    }\n",
              "</style>\n",
              "<table border=\"1\" class=\"dataframe\">\n",
              "  <thead>\n",
              "    <tr style=\"text-align: right;\">\n",
              "      <th></th>\n",
              "      <th>match_score</th>\n",
              "      <th>left_authors</th>\n",
              "      <th>right_authors</th>\n",
              "      <th>left_title</th>\n",
              "      <th>right_title</th>\n",
              "      <th>left_keywords</th>\n",
              "      <th>right_keywords</th>\n",
              "    </tr>\n",
              "    <tr>\n",
              "      <th>id</th>\n",
              "      <th></th>\n",
              "      <th></th>\n",
              "      <th></th>\n",
              "      <th></th>\n",
              "      <th></th>\n",
              "      <th></th>\n",
              "      <th></th>\n",
              "    </tr>\n",
              "  </thead>\n",
              "  <tbody>\n",
              "    <tr>\n",
              "      <th>1</th>\n",
              "      <td>0.926319</td>\n",
              "      <td>['abudawood ga', 'ashi hm', 'almarzouki nk']</td>\n",
              "      <td>['sánchez-valerio mr', 'mohamed-noriega k', 'z...</td>\n",
              "      <td>['computer', 'vision', 'syndrome', 'among', 'u...</td>\n",
              "      <td>['dry', 'eye', 'disease', 'association', 'with...</td>\n",
              "      <td>['computer vision syndrome', 'dry eye disease']</td>\n",
              "      <td>['computer vision syndrome', 'dry eye disease']</td>\n",
              "    </tr>\n",
              "    <tr>\n",
              "      <th>2</th>\n",
              "      <td>0.638169</td>\n",
              "      <td>['akbarian s', 'cawston t', 'moreno l', 'patel...</td>\n",
              "      <td>['akbarian s', 'nelder mp', 'russell cb', 'caw...</td>\n",
              "      <td>['a', 'computer', 'vision', 'approach', 'to', ...</td>\n",
              "      <td>['a', 'computer', 'vision', 'approach', 'to', ...</td>\n",
              "      <td>['computer vision', 'convolution neural networ...</td>\n",
              "      <td>['computer vision', 'ixodes scapularis', 'lyme...</td>\n",
              "    </tr>\n",
              "    <tr>\n",
              "      <th>3</th>\n",
              "      <td>0.698888</td>\n",
              "      <td>['an r', 'man y', 'iram s', 'kucukal e', 'hasa...</td>\n",
              "      <td>['vinitha v', 'velantina v']</td>\n",
              "      <td>['computer', 'vision', 'and', 'deep', 'learnin...</td>\n",
              "      <td>['covid-19', 'facemask', 'detection', 'with', ...</td>\n",
              "      <td>['anemia', 'artificial neural network', 'compu...</td>\n",
              "      <td>['computer vision', 'deep learning', 'opencv']</td>\n",
              "    </tr>\n",
              "    <tr>\n",
              "      <th>4</th>\n",
              "      <td>0.767870</td>\n",
              "      <td>['punia r', 'kumar l', 'mujahid m', 'rohilla r']</td>\n",
              "      <td>['vinitha v', 'velantina v']</td>\n",
              "      <td>['computer', 'vision', 'and', 'radiology', 'fo...</td>\n",
              "      <td>['covid-19', 'facemask', 'detection', 'with', ...</td>\n",
              "      <td>['covid-19', 'computer vision', 'radiology']</td>\n",
              "      <td>['computer vision', 'deep learning', 'opencv']</td>\n",
              "    </tr>\n",
              "    <tr>\n",
              "      <th>5</th>\n",
              "      <td>0.524586</td>\n",
              "      <td>['paul a', 'ghosh s', 'das ak', 'goswami s', '...</td>\n",
              "      <td>['khan aa', 'laghari aa', 'awan sa']</td>\n",
              "      <td>['a', 'review', 'on', 'agricultural', 'advance...</td>\n",
              "      <td>['machine', 'learning', 'in', 'computer', 'vis...</td>\n",
              "      <td>['agriculture', 'computer vision', 'machine le...</td>\n",
              "      <td>['computer vision', 'feature extraction', 'mac...</td>\n",
              "    </tr>\n",
              "  </tbody>\n",
              "</table>\n",
              "</div>\n",
              "      <button class=\"colab-df-convert\" onclick=\"convertToInteractive('df-34572f14-4791-4313-a083-46dbc6166915')\"\n",
              "              title=\"Convert this dataframe to an interactive table.\"\n",
              "              style=\"display:none;\">\n",
              "        \n",
              "  <svg xmlns=\"http://www.w3.org/2000/svg\" height=\"24px\"viewBox=\"0 0 24 24\"\n",
              "       width=\"24px\">\n",
              "    <path d=\"M0 0h24v24H0V0z\" fill=\"none\"/>\n",
              "    <path d=\"M18.56 5.44l.94 2.06.94-2.06 2.06-.94-2.06-.94-.94-2.06-.94 2.06-2.06.94zm-11 1L8.5 8.5l.94-2.06 2.06-.94-2.06-.94L8.5 2.5l-.94 2.06-2.06.94zm10 10l.94 2.06.94-2.06 2.06-.94-2.06-.94-.94-2.06-.94 2.06-2.06.94z\"/><path d=\"M17.41 7.96l-1.37-1.37c-.4-.4-.92-.59-1.43-.59-.52 0-1.04.2-1.43.59L10.3 9.45l-7.72 7.72c-.78.78-.78 2.05 0 2.83L4 21.41c.39.39.9.59 1.41.59.51 0 1.02-.2 1.41-.59l7.78-7.78 2.81-2.81c.8-.78.8-2.07 0-2.86zM5.41 20L4 18.59l7.72-7.72 1.47 1.35L5.41 20z\"/>\n",
              "  </svg>\n",
              "      </button>\n",
              "      \n",
              "  <style>\n",
              "    .colab-df-container {\n",
              "      display:flex;\n",
              "      flex-wrap:wrap;\n",
              "      gap: 12px;\n",
              "    }\n",
              "\n",
              "    .colab-df-convert {\n",
              "      background-color: #E8F0FE;\n",
              "      border: none;\n",
              "      border-radius: 50%;\n",
              "      cursor: pointer;\n",
              "      display: none;\n",
              "      fill: #1967D2;\n",
              "      height: 32px;\n",
              "      padding: 0 0 0 0;\n",
              "      width: 32px;\n",
              "    }\n",
              "\n",
              "    .colab-df-convert:hover {\n",
              "      background-color: #E2EBFA;\n",
              "      box-shadow: 0px 1px 2px rgba(60, 64, 67, 0.3), 0px 1px 3px 1px rgba(60, 64, 67, 0.15);\n",
              "      fill: #174EA6;\n",
              "    }\n",
              "\n",
              "    [theme=dark] .colab-df-convert {\n",
              "      background-color: #3B4455;\n",
              "      fill: #D2E3FC;\n",
              "    }\n",
              "\n",
              "    [theme=dark] .colab-df-convert:hover {\n",
              "      background-color: #434B5C;\n",
              "      box-shadow: 0px 1px 3px 1px rgba(0, 0, 0, 0.15);\n",
              "      filter: drop-shadow(0px 1px 2px rgba(0, 0, 0, 0.3));\n",
              "      fill: #FFFFFF;\n",
              "    }\n",
              "  </style>\n",
              "\n",
              "      <script>\n",
              "        const buttonEl =\n",
              "          document.querySelector('#df-34572f14-4791-4313-a083-46dbc6166915 button.colab-df-convert');\n",
              "        buttonEl.style.display =\n",
              "          google.colab.kernel.accessAllowed ? 'block' : 'none';\n",
              "\n",
              "        async function convertToInteractive(key) {\n",
              "          const element = document.querySelector('#df-34572f14-4791-4313-a083-46dbc6166915');\n",
              "          const dataTable =\n",
              "            await google.colab.kernel.invokeFunction('convertToInteractive',\n",
              "                                                     [key], {});\n",
              "          if (!dataTable) return;\n",
              "\n",
              "          const docLinkHtml = 'Like what you see? Visit the ' +\n",
              "            '<a target=\"_blank\" href=https://colab.research.google.com/notebooks/data_table.ipynb>data table notebook</a>'\n",
              "            + ' to learn more about interactive tables.';\n",
              "          element.innerHTML = '';\n",
              "          dataTable['output_type'] = 'display_data';\n",
              "          await google.colab.output.renderOutput(dataTable, element);\n",
              "          const docLink = document.createElement('div');\n",
              "          docLink.innerHTML = docLinkHtml;\n",
              "          element.appendChild(docLink);\n",
              "        }\n",
              "      </script>\n",
              "    </div>\n",
              "  </div>\n",
              "  "
            ]
          },
          "metadata": {},
          "execution_count": 18
        }
      ]
    },
    {
      "cell_type": "code",
      "source": [
        "high_score_pairs = predictions[predictions['match_score'] >= 0.9].sort_values(by=['match_score'], ascending=False)\n",
        "high_score_pairs.head()"
      ],
      "metadata": {
        "colab": {
          "base_uri": "https://localhost:8080/",
          "height": 455
        },
        "id": "V_IY6nPw-WAU",
        "outputId": "ff1d2f35-0baa-43ec-e0b0-8b6094d63d50"
      },
      "execution_count": null,
      "outputs": [
        {
          "output_type": "execute_result",
          "data": {
            "text/plain": [
              "      match_score                                       left_authors  \\\n",
              "id                                                                     \n",
              "1020     0.976772                              ['sood s', 'singh h']   \n",
              "375      0.972585  ['fernández-carrión e', 'barasona já', 'sánche...   \n",
              "23       0.967726  ['an r', 'man y', 'iram s', 'kucukal e', 'hasa...   \n",
              "149      0.966787  ['esteva a', 'chou k', 'yeung s', 'naik n', 'm...   \n",
              "1140     0.966514  ['wangsan k', 'upaphong p', 'assavanopakun p',...   \n",
              "\n",
              "                                          right_authors  \\\n",
              "id                                                        \n",
              "1020  ['abrami a', 'gunzler s', 'kilbane c', 'ostran...   \n",
              "375   ['abrami a', 'gunzler s', 'kilbane c', 'ostran...   \n",
              "23                                 ['vij r', 'arora s']   \n",
              "149                                ['vij r', 'arora s']   \n",
              "1140                               ['vij r', 'arora s']   \n",
              "\n",
              "                                             left_title  \\\n",
              "id                                                        \n",
              "1020  ['computer', 'vision', 'and', 'machine', 'lear...   \n",
              "375   ['computer', 'vision', 'applied', 'to', 'detec...   \n",
              "23    ['computer', 'vision', 'and', 'deep', 'learnin...   \n",
              "149   ['deep', 'learning-enabled', 'medical', 'compu...   \n",
              "1140  ['self-reported', 'computer', 'vision', 'syndr...   \n",
              "\n",
              "                                            right_title  \\\n",
              "id                                                        \n",
              "1020  ['automated', 'computer', 'vision', 'assessmen...   \n",
              "375   ['automated', 'computer', 'vision', 'assessmen...   \n",
              "23    ['computer', 'vision', 'with', 'deep', 'learni...   \n",
              "149   ['computer', 'vision', 'with', 'deep', 'learni...   \n",
              "1140  ['computer', 'vision', 'with', 'deep', 'learni...   \n",
              "\n",
              "                                          left_keywords  \\\n",
              "id                                                        \n",
              "1020  ['convolutional neural network', 'deep learnin...   \n",
              "375   ['african swine fever', 'artificial intelligen...   \n",
              "23    ['anemia', 'artificial neural network', 'compu...   \n",
              "149   ['computer vision', 'machine perception', 'med...   \n",
              "1140  ['covid-19 impact', 'computer vison syndrome',...   \n",
              "\n",
              "                                         right_keywords  \n",
              "id                                                       \n",
              "1020  ['computer vision', 'hypomimia', 'parkinson di...  \n",
              "375   ['computer vision', 'hypomimia', 'parkinson di...  \n",
              "23    ['artificial intelligence', 'computer vision',...  \n",
              "149   ['artificial intelligence', 'computer vision',...  \n",
              "1140  ['artificial intelligence', 'computer vision',...  "
            ],
            "text/html": [
              "\n",
              "  <div id=\"df-ee6affc8-0f42-4d3f-8519-ff6a545275a8\">\n",
              "    <div class=\"colab-df-container\">\n",
              "      <div>\n",
              "<style scoped>\n",
              "    .dataframe tbody tr th:only-of-type {\n",
              "        vertical-align: middle;\n",
              "    }\n",
              "\n",
              "    .dataframe tbody tr th {\n",
              "        vertical-align: top;\n",
              "    }\n",
              "\n",
              "    .dataframe thead th {\n",
              "        text-align: right;\n",
              "    }\n",
              "</style>\n",
              "<table border=\"1\" class=\"dataframe\">\n",
              "  <thead>\n",
              "    <tr style=\"text-align: right;\">\n",
              "      <th></th>\n",
              "      <th>match_score</th>\n",
              "      <th>left_authors</th>\n",
              "      <th>right_authors</th>\n",
              "      <th>left_title</th>\n",
              "      <th>right_title</th>\n",
              "      <th>left_keywords</th>\n",
              "      <th>right_keywords</th>\n",
              "    </tr>\n",
              "    <tr>\n",
              "      <th>id</th>\n",
              "      <th></th>\n",
              "      <th></th>\n",
              "      <th></th>\n",
              "      <th></th>\n",
              "      <th></th>\n",
              "      <th></th>\n",
              "      <th></th>\n",
              "    </tr>\n",
              "  </thead>\n",
              "  <tbody>\n",
              "    <tr>\n",
              "      <th>1020</th>\n",
              "      <td>0.976772</td>\n",
              "      <td>['sood s', 'singh h']</td>\n",
              "      <td>['abrami a', 'gunzler s', 'kilbane c', 'ostran...</td>\n",
              "      <td>['computer', 'vision', 'and', 'machine', 'lear...</td>\n",
              "      <td>['automated', 'computer', 'vision', 'assessmen...</td>\n",
              "      <td>['convolutional neural network', 'deep learnin...</td>\n",
              "      <td>['computer vision', 'hypomimia', 'parkinson di...</td>\n",
              "    </tr>\n",
              "    <tr>\n",
              "      <th>375</th>\n",
              "      <td>0.972585</td>\n",
              "      <td>['fernández-carrión e', 'barasona já', 'sánche...</td>\n",
              "      <td>['abrami a', 'gunzler s', 'kilbane c', 'ostran...</td>\n",
              "      <td>['computer', 'vision', 'applied', 'to', 'detec...</td>\n",
              "      <td>['automated', 'computer', 'vision', 'assessmen...</td>\n",
              "      <td>['african swine fever', 'artificial intelligen...</td>\n",
              "      <td>['computer vision', 'hypomimia', 'parkinson di...</td>\n",
              "    </tr>\n",
              "    <tr>\n",
              "      <th>23</th>\n",
              "      <td>0.967726</td>\n",
              "      <td>['an r', 'man y', 'iram s', 'kucukal e', 'hasa...</td>\n",
              "      <td>['vij r', 'arora s']</td>\n",
              "      <td>['computer', 'vision', 'and', 'deep', 'learnin...</td>\n",
              "      <td>['computer', 'vision', 'with', 'deep', 'learni...</td>\n",
              "      <td>['anemia', 'artificial neural network', 'compu...</td>\n",
              "      <td>['artificial intelligence', 'computer vision',...</td>\n",
              "    </tr>\n",
              "    <tr>\n",
              "      <th>149</th>\n",
              "      <td>0.966787</td>\n",
              "      <td>['esteva a', 'chou k', 'yeung s', 'naik n', 'm...</td>\n",
              "      <td>['vij r', 'arora s']</td>\n",
              "      <td>['deep', 'learning-enabled', 'medical', 'compu...</td>\n",
              "      <td>['computer', 'vision', 'with', 'deep', 'learni...</td>\n",
              "      <td>['computer vision', 'machine perception', 'med...</td>\n",
              "      <td>['artificial intelligence', 'computer vision',...</td>\n",
              "    </tr>\n",
              "    <tr>\n",
              "      <th>1140</th>\n",
              "      <td>0.966514</td>\n",
              "      <td>['wangsan k', 'upaphong p', 'assavanopakun p',...</td>\n",
              "      <td>['vij r', 'arora s']</td>\n",
              "      <td>['self-reported', 'computer', 'vision', 'syndr...</td>\n",
              "      <td>['computer', 'vision', 'with', 'deep', 'learni...</td>\n",
              "      <td>['covid-19 impact', 'computer vison syndrome',...</td>\n",
              "      <td>['artificial intelligence', 'computer vision',...</td>\n",
              "    </tr>\n",
              "  </tbody>\n",
              "</table>\n",
              "</div>\n",
              "      <button class=\"colab-df-convert\" onclick=\"convertToInteractive('df-ee6affc8-0f42-4d3f-8519-ff6a545275a8')\"\n",
              "              title=\"Convert this dataframe to an interactive table.\"\n",
              "              style=\"display:none;\">\n",
              "        \n",
              "  <svg xmlns=\"http://www.w3.org/2000/svg\" height=\"24px\"viewBox=\"0 0 24 24\"\n",
              "       width=\"24px\">\n",
              "    <path d=\"M0 0h24v24H0V0z\" fill=\"none\"/>\n",
              "    <path d=\"M18.56 5.44l.94 2.06.94-2.06 2.06-.94-2.06-.94-.94-2.06-.94 2.06-2.06.94zm-11 1L8.5 8.5l.94-2.06 2.06-.94-2.06-.94L8.5 2.5l-.94 2.06-2.06.94zm10 10l.94 2.06.94-2.06 2.06-.94-2.06-.94-.94-2.06-.94 2.06-2.06.94z\"/><path d=\"M17.41 7.96l-1.37-1.37c-.4-.4-.92-.59-1.43-.59-.52 0-1.04.2-1.43.59L10.3 9.45l-7.72 7.72c-.78.78-.78 2.05 0 2.83L4 21.41c.39.39.9.59 1.41.59.51 0 1.02-.2 1.41-.59l7.78-7.78 2.81-2.81c.8-.78.8-2.07 0-2.86zM5.41 20L4 18.59l7.72-7.72 1.47 1.35L5.41 20z\"/>\n",
              "  </svg>\n",
              "      </button>\n",
              "      \n",
              "  <style>\n",
              "    .colab-df-container {\n",
              "      display:flex;\n",
              "      flex-wrap:wrap;\n",
              "      gap: 12px;\n",
              "    }\n",
              "\n",
              "    .colab-df-convert {\n",
              "      background-color: #E8F0FE;\n",
              "      border: none;\n",
              "      border-radius: 50%;\n",
              "      cursor: pointer;\n",
              "      display: none;\n",
              "      fill: #1967D2;\n",
              "      height: 32px;\n",
              "      padding: 0 0 0 0;\n",
              "      width: 32px;\n",
              "    }\n",
              "\n",
              "    .colab-df-convert:hover {\n",
              "      background-color: #E2EBFA;\n",
              "      box-shadow: 0px 1px 2px rgba(60, 64, 67, 0.3), 0px 1px 3px 1px rgba(60, 64, 67, 0.15);\n",
              "      fill: #174EA6;\n",
              "    }\n",
              "\n",
              "    [theme=dark] .colab-df-convert {\n",
              "      background-color: #3B4455;\n",
              "      fill: #D2E3FC;\n",
              "    }\n",
              "\n",
              "    [theme=dark] .colab-df-convert:hover {\n",
              "      background-color: #434B5C;\n",
              "      box-shadow: 0px 1px 3px 1px rgba(0, 0, 0, 0.15);\n",
              "      filter: drop-shadow(0px 1px 2px rgba(0, 0, 0, 0.3));\n",
              "      fill: #FFFFFF;\n",
              "    }\n",
              "  </style>\n",
              "\n",
              "      <script>\n",
              "        const buttonEl =\n",
              "          document.querySelector('#df-ee6affc8-0f42-4d3f-8519-ff6a545275a8 button.colab-df-convert');\n",
              "        buttonEl.style.display =\n",
              "          google.colab.kernel.accessAllowed ? 'block' : 'none';\n",
              "\n",
              "        async function convertToInteractive(key) {\n",
              "          const element = document.querySelector('#df-ee6affc8-0f42-4d3f-8519-ff6a545275a8');\n",
              "          const dataTable =\n",
              "            await google.colab.kernel.invokeFunction('convertToInteractive',\n",
              "                                                     [key], {});\n",
              "          if (!dataTable) return;\n",
              "\n",
              "          const docLinkHtml = 'Like what you see? Visit the ' +\n",
              "            '<a target=\"_blank\" href=https://colab.research.google.com/notebooks/data_table.ipynb>data table notebook</a>'\n",
              "            + ' to learn more about interactive tables.';\n",
              "          element.innerHTML = '';\n",
              "          dataTable['output_type'] = 'display_data';\n",
              "          await google.colab.output.renderOutput(dataTable, element);\n",
              "          const docLink = document.createElement('div');\n",
              "          docLink.innerHTML = docLinkHtml;\n",
              "          element.appendChild(docLink);\n",
              "        }\n",
              "      </script>\n",
              "    </div>\n",
              "  </div>\n",
              "  "
            ]
          },
          "metadata": {},
          "execution_count": 19
        }
      ]
    },
    {
      "cell_type": "code",
      "source": [
        "predictions.to_csv('unlabeled_predictions.csv')"
      ],
      "metadata": {
        "id": "v-NpxJW0-dTW"
      },
      "execution_count": null,
      "outputs": []
    },
    {
      "cell_type": "code",
      "source": [
        "model = dm.MatchingModel(attr_summarizer='sif')\n",
        "\n",
        "model.run_train(\n",
        "    train,\n",
        "    validation,\n",
        "    epochs=10,\n",
        "    batch_size=16,\n",
        "    best_save_path='SIF_model.pth',\n",
        "    pos_neg_ratio=17)"
      ],
      "metadata": {
        "colab": {
          "base_uri": "https://localhost:8080/"
        },
        "id": "9lAEP8YXF44g",
        "outputId": "6c0b1064-36fb-4ac1-e26b-e30f87520fba"
      },
      "execution_count": null,
      "outputs": [
        {
          "output_type": "stream",
          "name": "stdout",
          "text": [
            "* Number of trainable parameters: 542402\n",
            "===>  TRAIN Epoch 1\n"
          ]
        },
        {
          "output_type": "stream",
          "name": "stderr",
          "text": [
            "/usr/local/lib/python3.9/dist-packages/torch/nn/modules/module.py:795: UserWarning: Using a non-full backward hook when the forward contains multiple autograd Nodes is deprecated and will be removed in future versions. This hook will be missing some grad_input. Please use register_full_backward_hook to get the documented behavior.\n",
            "  warnings.warn(\"Using a non-full backward hook when the forward contains multiple autograd Nodes \"\n",
            "/usr/local/lib/python3.9/dist-packages/torch/nn/functional.py:2607: UserWarning: reduction: 'mean' divides the total loss by both the batch size and the support size.'batchmean' divides only by the batch size, and aligns with the KL div math definition.'mean' will be changed to behave the same as 'batchmean' in the next major release.\n",
            "  warnings.warn(\n",
            "0% [█████████] 100% | ETA: 00:00:00\n",
            "Total time elapsed: 00:00:01\n"
          ]
        },
        {
          "output_type": "stream",
          "name": "stdout",
          "text": [
            "Finished Epoch 1 || Run Time:    1.1 | Load Time:    0.4 || F1:  16.64 | Prec:   9.13 | Rec:  93.85 || Ex/s: 492.27\n",
            "\n",
            "===>  EVAL Epoch 1\n"
          ]
        },
        {
          "output_type": "stream",
          "name": "stderr",
          "text": [
            "0% [███] 100% | ETA: 00:00:00\n",
            "Total time elapsed: 00:00:00\n"
          ]
        },
        {
          "output_type": "stream",
          "name": "stdout",
          "text": [
            "Finished Epoch 1 || Run Time:    0.2 | Load Time:    0.1 || F1:  13.69 | Prec:   7.35 | Rec: 100.00 || Ex/s: 709.53\n",
            "\n",
            "* Best F1: tensor(13.6882)\n",
            "Saving best model...\n",
            "Done.\n",
            "---------------------\n",
            "\n",
            "===>  TRAIN Epoch 2\n"
          ]
        },
        {
          "output_type": "stream",
          "name": "stderr",
          "text": [
            "0% [█████████] 100% | ETA: 00:00:00\n",
            "Total time elapsed: 00:00:01\n"
          ]
        },
        {
          "output_type": "stream",
          "name": "stdout",
          "text": [
            "Finished Epoch 2 || Run Time:    1.1 | Load Time:    0.4 || F1:  16.25 | Prec:   8.84 | Rec: 100.00 || Ex/s: 485.60\n",
            "\n",
            "===>  EVAL Epoch 2\n"
          ]
        },
        {
          "output_type": "stream",
          "name": "stderr",
          "text": [
            "0% [███] 100% | ETA: 00:00:00\n",
            "Total time elapsed: 00:00:00\n"
          ]
        },
        {
          "output_type": "stream",
          "name": "stdout",
          "text": [
            "Finished Epoch 2 || Run Time:    0.3 | Load Time:    0.2 || F1:  13.69 | Prec:   7.35 | Rec: 100.00 || Ex/s: 512.73\n",
            "\n",
            "---------------------\n",
            "\n",
            "===>  TRAIN Epoch 3\n"
          ]
        },
        {
          "output_type": "stream",
          "name": "stderr",
          "text": [
            "0% [█████████] 100% | ETA: 00:00:00\n",
            "Total time elapsed: 00:00:01\n"
          ]
        },
        {
          "output_type": "stream",
          "name": "stdout",
          "text": [
            "Finished Epoch 3 || Run Time:    1.4 | Load Time:    0.6 || F1:  16.25 | Prec:   8.84 | Rec: 100.00 || Ex/s: 368.71\n",
            "\n",
            "===>  EVAL Epoch 3\n"
          ]
        },
        {
          "output_type": "stream",
          "name": "stderr",
          "text": [
            "0% [███] 100% | ETA: 00:00:00\n",
            "Total time elapsed: 00:00:00\n"
          ]
        },
        {
          "output_type": "stream",
          "name": "stdout",
          "text": [
            "Finished Epoch 3 || Run Time:    0.3 | Load Time:    0.2 || F1:  13.69 | Prec:   7.35 | Rec: 100.00 || Ex/s: 567.93\n",
            "\n",
            "---------------------\n",
            "\n",
            "===>  TRAIN Epoch 4\n"
          ]
        },
        {
          "output_type": "stream",
          "name": "stderr",
          "text": [
            "0% [█████████] 100% | ETA: 00:00:00\n",
            "Total time elapsed: 00:00:01\n"
          ]
        },
        {
          "output_type": "stream",
          "name": "stdout",
          "text": [
            "Finished Epoch 4 || Run Time:    1.1 | Load Time:    0.4 || F1:  16.25 | Prec:   8.84 | Rec: 100.00 || Ex/s: 502.82\n",
            "\n",
            "===>  EVAL Epoch 4\n"
          ]
        },
        {
          "output_type": "stream",
          "name": "stderr",
          "text": [
            "0% [███] 100% | ETA: 00:00:00\n",
            "Total time elapsed: 00:00:00\n"
          ]
        },
        {
          "output_type": "stream",
          "name": "stdout",
          "text": [
            "Finished Epoch 4 || Run Time:    0.2 | Load Time:    0.1 || F1:  13.69 | Prec:   7.35 | Rec: 100.00 || Ex/s: 712.10\n",
            "\n",
            "---------------------\n",
            "\n",
            "===>  TRAIN Epoch 5\n"
          ]
        },
        {
          "output_type": "stream",
          "name": "stderr",
          "text": [
            "0% [█████████] 100% | ETA: 00:00:00\n",
            "Total time elapsed: 00:00:01\n"
          ]
        },
        {
          "output_type": "stream",
          "name": "stdout",
          "text": [
            "Finished Epoch 5 || Run Time:    1.1 | Load Time:    0.4 || F1:  16.25 | Prec:   8.84 | Rec: 100.00 || Ex/s: 501.91\n",
            "\n",
            "===>  EVAL Epoch 5\n"
          ]
        },
        {
          "output_type": "stream",
          "name": "stderr",
          "text": [
            "0% [███] 100% | ETA: 00:00:00\n",
            "Total time elapsed: 00:00:00\n"
          ]
        },
        {
          "output_type": "stream",
          "name": "stdout",
          "text": [
            "Finished Epoch 5 || Run Time:    0.2 | Load Time:    0.1 || F1:  13.69 | Prec:   7.35 | Rec: 100.00 || Ex/s: 694.27\n",
            "\n",
            "---------------------\n",
            "\n",
            "===>  TRAIN Epoch 6\n"
          ]
        },
        {
          "output_type": "stream",
          "name": "stderr",
          "text": [
            "0% [█████████] 100% | ETA: 00:00:00\n",
            "Total time elapsed: 00:00:01\n"
          ]
        },
        {
          "output_type": "stream",
          "name": "stdout",
          "text": [
            "Finished Epoch 6 || Run Time:    1.0 | Load Time:    0.4 || F1:  16.29 | Prec:   8.87 | Rec: 100.00 || Ex/s: 530.59\n",
            "\n",
            "===>  EVAL Epoch 6\n"
          ]
        },
        {
          "output_type": "stream",
          "name": "stderr",
          "text": [
            "0% [███] 100% | ETA: 00:00:00\n",
            "Total time elapsed: 00:00:00\n"
          ]
        },
        {
          "output_type": "stream",
          "name": "stdout",
          "text": [
            "Finished Epoch 6 || Run Time:    0.2 | Load Time:    0.1 || F1:  13.74 | Prec:   7.38 | Rec: 100.00 || Ex/s: 726.17\n",
            "\n",
            "* Best F1: tensor(13.7405)\n",
            "Saving best model...\n",
            "Done.\n",
            "---------------------\n",
            "\n",
            "===>  TRAIN Epoch 7\n"
          ]
        },
        {
          "output_type": "stream",
          "name": "stderr",
          "text": [
            "0% [█████████] 100% | ETA: 00:00:00\n",
            "Total time elapsed: 00:00:01\n"
          ]
        },
        {
          "output_type": "stream",
          "name": "stdout",
          "text": [
            "Finished Epoch 7 || Run Time:    1.1 | Load Time:    0.4 || F1:  16.50 | Prec:   8.99 | Rec: 100.00 || Ex/s: 485.54\n",
            "\n",
            "===>  EVAL Epoch 7\n"
          ]
        },
        {
          "output_type": "stream",
          "name": "stderr",
          "text": [
            "0% [███] 100% | ETA: 00:00:00\n",
            "Total time elapsed: 00:00:00\n"
          ]
        },
        {
          "output_type": "stream",
          "name": "stdout",
          "text": [
            "Finished Epoch 7 || Run Time:    0.2 | Load Time:    0.1 || F1:  14.12 | Prec:   7.59 | Rec: 100.00 || Ex/s: 739.13\n",
            "\n",
            "* Best F1: tensor(14.1176)\n",
            "Saving best model...\n",
            "Done.\n",
            "---------------------\n",
            "\n",
            "===>  TRAIN Epoch 8\n"
          ]
        },
        {
          "output_type": "stream",
          "name": "stderr",
          "text": [
            "0% [█████████] 100% | ETA: 00:00:00\n",
            "Total time elapsed: 00:00:01\n"
          ]
        },
        {
          "output_type": "stream",
          "name": "stdout",
          "text": [
            "Finished Epoch 8 || Run Time:    1.0 | Load Time:    0.4 || F1:  17.11 | Prec:   9.35 | Rec: 100.00 || Ex/s: 519.80\n",
            "\n",
            "===>  EVAL Epoch 8\n"
          ]
        },
        {
          "output_type": "stream",
          "name": "stderr",
          "text": [
            "0% [███] 100% | ETA: 00:00:00\n",
            "Total time elapsed: 00:00:00\n"
          ]
        },
        {
          "output_type": "stream",
          "name": "stdout",
          "text": [
            "Finished Epoch 8 || Run Time:    0.2 | Load Time:    0.1 || F1:  14.81 | Prec:   8.00 | Rec: 100.00 || Ex/s: 782.23\n",
            "\n",
            "* Best F1: tensor(14.8148)\n",
            "Saving best model...\n",
            "Done.\n",
            "---------------------\n",
            "\n",
            "===>  TRAIN Epoch 9\n"
          ]
        },
        {
          "output_type": "stream",
          "name": "stderr",
          "text": [
            "0% [█████████] 100% | ETA: 00:00:00\n",
            "Total time elapsed: 00:00:01\n"
          ]
        },
        {
          "output_type": "stream",
          "name": "stdout",
          "text": [
            "Finished Epoch 9 || Run Time:    1.2 | Load Time:    0.4 || F1:  17.88 | Prec:   9.82 | Rec: 100.00 || Ex/s: 451.99\n",
            "\n",
            "===>  EVAL Epoch 9\n"
          ]
        },
        {
          "output_type": "stream",
          "name": "stderr",
          "text": [
            "0% [███] 100% | ETA: 00:00:00\n",
            "Total time elapsed: 00:00:00\n"
          ]
        },
        {
          "output_type": "stream",
          "name": "stdout",
          "text": [
            "Finished Epoch 9 || Run Time:    0.3 | Load Time:    0.2 || F1:  16.14 | Prec:   8.78 | Rec: 100.00 || Ex/s: 547.04\n",
            "\n",
            "* Best F1: tensor(16.1435)\n",
            "Saving best model...\n",
            "Done.\n",
            "---------------------\n",
            "\n",
            "===>  TRAIN Epoch 10\n"
          ]
        },
        {
          "output_type": "stream",
          "name": "stderr",
          "text": [
            "0% [█████████] 100% | ETA: 00:00:00\n",
            "Total time elapsed: 00:00:01\n"
          ]
        },
        {
          "output_type": "stream",
          "name": "stdout",
          "text": [
            "Finished Epoch 10 || Run Time:    1.4 | Load Time:    0.5 || F1:  18.79 | Prec:  10.37 | Rec: 100.00 || Ex/s: 379.83\n",
            "\n",
            "===>  EVAL Epoch 10\n"
          ]
        },
        {
          "output_type": "stream",
          "name": "stderr",
          "text": [
            "0% [███] 100% | ETA: 00:00:00\n",
            "Total time elapsed: 00:00:00\n"
          ]
        },
        {
          "output_type": "stream",
          "name": "stdout",
          "text": [
            "Finished Epoch 10 || Run Time:    0.2 | Load Time:    0.1 || F1:  16.98 | Prec:   9.28 | Rec: 100.00 || Ex/s: 703.57\n",
            "\n",
            "* Best F1: tensor(16.9811)\n",
            "Saving best model...\n",
            "Done.\n",
            "---------------------\n",
            "\n",
            "Loading best model...\n",
            "Training done.\n"
          ]
        },
        {
          "output_type": "execute_result",
          "data": {
            "text/plain": [
              "tensor(16.9811)"
            ]
          },
          "metadata": {},
          "execution_count": 13
        }
      ]
    },
    {
      "cell_type": "code",
      "source": [
        "model = dm.MatchingModel(attr_summarizer='rnn')\n",
        "\n",
        "model.run_train(\n",
        "    train,\n",
        "    validation,\n",
        "    epochs=10,\n",
        "    batch_size=16,\n",
        "    best_save_path='rnn_model.pth',\n",
        "    pos_neg_ratio=17)"
      ],
      "metadata": {
        "colab": {
          "base_uri": "https://localhost:8080/"
        },
        "id": "iGBWXf-SICat",
        "outputId": "95451ae6-9a5e-4234-aa95-a61365075ff8"
      },
      "execution_count": null,
      "outputs": [
        {
          "output_type": "stream",
          "name": "stdout",
          "text": [
            "* Number of trainable parameters: 1762802\n",
            "===>  TRAIN Epoch 1\n"
          ]
        },
        {
          "output_type": "stream",
          "name": "stderr",
          "text": [
            "/usr/local/lib/python3.9/dist-packages/torch/nn/modules/module.py:770: UserWarning: Using non-full backward hooks on a Module that does not take as input a single Tensor or a tuple of Tensors is deprecated and will be removed in future versions. This hook will be missing some of the grad_input. Please use register_full_backward_hook to get the documented behavior.\n",
            "  warnings.warn(\"Using non-full backward hooks on a Module that does not take as input a \"\n",
            "/usr/local/lib/python3.9/dist-packages/torch/nn/modules/module.py:760: UserWarning: Using non-full backward hooks on a Module that does not return a single Tensor or a tuple of Tensors is deprecated and will be removed in future versions. This hook will be missing some of the grad_output. Please use register_full_backward_hook to get the documented behavior.\n",
            "  warnings.warn(\"Using non-full backward hooks on a Module that does not return a \"\n",
            "0% [█████████] 100% | ETA: 00:00:00\n",
            "Total time elapsed: 00:00:38\n"
          ]
        },
        {
          "output_type": "stream",
          "name": "stdout",
          "text": [
            "Finished Epoch 1 || Run Time:   39.5 | Load Time:    0.5 || F1:  16.21 | Prec:   8.95 | Rec:  86.15 || Ex/s:  18.40\n",
            "\n",
            "===>  EVAL Epoch 1\n"
          ]
        },
        {
          "output_type": "stream",
          "name": "stderr",
          "text": [
            "0% [███] 100% | ETA: 00:00:00\n",
            "Total time elapsed: 00:00:05\n"
          ]
        },
        {
          "output_type": "stream",
          "name": "stdout",
          "text": [
            "Finished Epoch 1 || Run Time:    5.8 | Load Time:    0.2 || F1:  13.69 | Prec:   7.35 | Rec: 100.00 || Ex/s:  41.36\n",
            "\n",
            "* Best F1: tensor(13.6882)\n",
            "Saving best model...\n",
            "Done.\n",
            "---------------------\n",
            "\n",
            "===>  TRAIN Epoch 2\n"
          ]
        },
        {
          "output_type": "stream",
          "name": "stderr",
          "text": [
            "0% [█████████] 100% | ETA: 00:00:00\n",
            "Total time elapsed: 00:00:39\n"
          ]
        },
        {
          "output_type": "stream",
          "name": "stdout",
          "text": [
            "Finished Epoch 2 || Run Time:   40.8 | Load Time:    0.5 || F1:  16.25 | Prec:   8.84 | Rec: 100.00 || Ex/s:  17.80\n",
            "\n",
            "===>  EVAL Epoch 2\n"
          ]
        },
        {
          "output_type": "stream",
          "name": "stderr",
          "text": [
            "0% [███] 100% | ETA: 00:00:00\n",
            "Total time elapsed: 00:00:04\n"
          ]
        },
        {
          "output_type": "stream",
          "name": "stdout",
          "text": [
            "Finished Epoch 2 || Run Time:    4.8 | Load Time:    0.2 || F1:  13.69 | Prec:   7.35 | Rec: 100.00 || Ex/s:  49.28\n",
            "\n",
            "---------------------\n",
            "\n",
            "===>  TRAIN Epoch 3\n"
          ]
        },
        {
          "output_type": "stream",
          "name": "stderr",
          "text": [
            "0% [█████████] 100% | ETA: 00:00:00\n",
            "Total time elapsed: 00:00:38\n"
          ]
        },
        {
          "output_type": "stream",
          "name": "stdout",
          "text": [
            "Finished Epoch 3 || Run Time:   39.0 | Load Time:    0.4 || F1:  16.25 | Prec:   8.84 | Rec: 100.00 || Ex/s:  18.61\n",
            "\n",
            "===>  EVAL Epoch 3\n"
          ]
        },
        {
          "output_type": "stream",
          "name": "stderr",
          "text": [
            "0% [███] 100% | ETA: 00:00:00\n",
            "Total time elapsed: 00:00:05\n"
          ]
        },
        {
          "output_type": "stream",
          "name": "stdout",
          "text": [
            "Finished Epoch 3 || Run Time:    5.6 | Load Time:    0.2 || F1:  13.69 | Prec:   7.35 | Rec: 100.00 || Ex/s:  42.60\n",
            "\n",
            "---------------------\n",
            "\n",
            "===>  TRAIN Epoch 4\n"
          ]
        },
        {
          "output_type": "stream",
          "name": "stderr",
          "text": [
            "0% [█████████] 100% | ETA: 00:00:00\n",
            "Total time elapsed: 00:00:37\n"
          ]
        },
        {
          "output_type": "stream",
          "name": "stdout",
          "text": [
            "Finished Epoch 4 || Run Time:   39.0 | Load Time:    0.4 || F1:  16.86 | Prec:   9.21 | Rec: 100.00 || Ex/s:  18.65\n",
            "\n",
            "===>  EVAL Epoch 4\n"
          ]
        },
        {
          "output_type": "stream",
          "name": "stderr",
          "text": [
            "0% [███] 100% | ETA: 00:00:00\n",
            "Total time elapsed: 00:00:04\n"
          ]
        },
        {
          "output_type": "stream",
          "name": "stdout",
          "text": [
            "Finished Epoch 4 || Run Time:    4.5 | Load Time:    0.1 || F1:  16.04 | Prec:   8.76 | Rec:  94.44 || Ex/s:  53.05\n",
            "\n",
            "* Best F1: tensor(16.0377)\n",
            "Saving best model...\n",
            "Done.\n",
            "---------------------\n",
            "\n",
            "===>  TRAIN Epoch 5\n"
          ]
        },
        {
          "output_type": "stream",
          "name": "stderr",
          "text": [
            "0% [█████████] 100% | ETA: 00:00:00\n",
            "Total time elapsed: 00:00:38\n"
          ]
        },
        {
          "output_type": "stream",
          "name": "stdout",
          "text": [
            "Finished Epoch 5 || Run Time:   39.3 | Load Time:    0.5 || F1:  20.16 | Prec:  11.21 | Rec: 100.00 || Ex/s:  18.48\n",
            "\n",
            "===>  EVAL Epoch 5\n"
          ]
        },
        {
          "output_type": "stream",
          "name": "stderr",
          "text": [
            "0% [███] 100% | ETA: 00:00:00\n",
            "Total time elapsed: 00:00:04\n"
          ]
        },
        {
          "output_type": "stream",
          "name": "stdout",
          "text": [
            "Finished Epoch 5 || Run Time:    5.0 | Load Time:    0.1 || F1:  13.50 | Prec:   7.31 | Rec:  88.89 || Ex/s:  47.65\n",
            "\n",
            "---------------------\n",
            "\n",
            "===>  TRAIN Epoch 6\n"
          ]
        },
        {
          "output_type": "stream",
          "name": "stderr",
          "text": [
            "0% [█████████] 100% | ETA: 00:00:00\n",
            "Total time elapsed: 00:00:38\n"
          ]
        },
        {
          "output_type": "stream",
          "name": "stdout",
          "text": [
            "Finished Epoch 6 || Run Time:   39.5 | Load Time:    0.4 || F1:  21.74 | Prec:  12.20 | Rec: 100.00 || Ex/s:  18.38\n",
            "\n",
            "===>  EVAL Epoch 6\n"
          ]
        },
        {
          "output_type": "stream",
          "name": "stderr",
          "text": [
            "0% [███] 100% | ETA: 00:00:00\n",
            "Total time elapsed: 00:00:04\n"
          ]
        },
        {
          "output_type": "stream",
          "name": "stdout",
          "text": [
            "Finished Epoch 6 || Run Time:    4.9 | Load Time:    0.1 || F1:  17.80 | Prec:   9.83 | Rec:  94.44 || Ex/s:  48.91\n",
            "\n",
            "* Best F1: tensor(17.8010)\n",
            "Saving best model...\n",
            "Done.\n",
            "---------------------\n",
            "\n",
            "===>  TRAIN Epoch 7\n"
          ]
        },
        {
          "output_type": "stream",
          "name": "stderr",
          "text": [
            "0% [█████████] 100% | ETA: 00:00:00\n",
            "Total time elapsed: 00:00:38\n"
          ]
        },
        {
          "output_type": "stream",
          "name": "stdout",
          "text": [
            "Finished Epoch 7 || Run Time:   39.1 | Load Time:    0.5 || F1:  24.30 | Prec:  13.83 | Rec: 100.00 || Ex/s:  18.58\n",
            "\n",
            "===>  EVAL Epoch 7\n"
          ]
        },
        {
          "output_type": "stream",
          "name": "stderr",
          "text": [
            "0% [███] 100% | ETA: 00:00:00\n",
            "Total time elapsed: 00:00:04\n"
          ]
        },
        {
          "output_type": "stream",
          "name": "stdout",
          "text": [
            "Finished Epoch 7 || Run Time:    4.5 | Load Time:    0.1 || F1:  21.38 | Prec:  12.06 | Rec:  94.44 || Ex/s:  52.71\n",
            "\n",
            "* Best F1: tensor(21.3836)\n",
            "Saving best model...\n",
            "Done.\n",
            "---------------------\n",
            "\n",
            "===>  TRAIN Epoch 8\n"
          ]
        },
        {
          "output_type": "stream",
          "name": "stderr",
          "text": [
            "0% [█████████] 100% | ETA: 00:00:00\n",
            "Total time elapsed: 00:00:39\n"
          ]
        },
        {
          "output_type": "stream",
          "name": "stdout",
          "text": [
            "Finished Epoch 8 || Run Time:   40.6 | Load Time:    0.5 || F1:  27.78 | Prec:  16.13 | Rec: 100.00 || Ex/s:  17.91\n",
            "\n",
            "===>  EVAL Epoch 8\n"
          ]
        },
        {
          "output_type": "stream",
          "name": "stderr",
          "text": [
            "0% [███] 100% | ETA: 00:00:00\n",
            "Total time elapsed: 00:00:05\n"
          ]
        },
        {
          "output_type": "stream",
          "name": "stdout",
          "text": [
            "Finished Epoch 8 || Run Time:    5.1 | Load Time:    0.2 || F1:  24.29 | Prec:  13.93 | Rec:  94.44 || Ex/s:  46.21\n",
            "\n",
            "* Best F1: tensor(24.2857)\n",
            "Saving best model...\n",
            "Done.\n",
            "---------------------\n",
            "\n",
            "===>  TRAIN Epoch 9\n"
          ]
        },
        {
          "output_type": "stream",
          "name": "stderr",
          "text": [
            "0% [█████████] 100% | ETA: 00:00:00\n",
            "Total time elapsed: 00:00:38\n"
          ]
        },
        {
          "output_type": "stream",
          "name": "stdout",
          "text": [
            "Finished Epoch 9 || Run Time:   39.1 | Load Time:    0.4 || F1:  32.18 | Prec:  19.17 | Rec: 100.00 || Ex/s:  18.57\n",
            "\n",
            "===>  EVAL Epoch 9\n"
          ]
        },
        {
          "output_type": "stream",
          "name": "stderr",
          "text": [
            "0% [███] 100% | ETA: 00:00:00\n",
            "Total time elapsed: 00:00:04\n"
          ]
        },
        {
          "output_type": "stream",
          "name": "stdout",
          "text": [
            "Finished Epoch 9 || Run Time:    4.5 | Load Time:    0.1 || F1:  25.42 | Prec:  15.00 | Rec:  83.33 || Ex/s:  53.08\n",
            "\n",
            "* Best F1: tensor(25.4237)\n",
            "Saving best model...\n",
            "Done.\n",
            "---------------------\n",
            "\n",
            "===>  TRAIN Epoch 10\n"
          ]
        },
        {
          "output_type": "stream",
          "name": "stderr",
          "text": [
            "0% [█████████] 100% | ETA: 00:00:00\n",
            "Total time elapsed: 00:00:38\n"
          ]
        },
        {
          "output_type": "stream",
          "name": "stdout",
          "text": [
            "Finished Epoch 10 || Run Time:   38.9 | Load Time:    0.5 || F1:  37.68 | Prec:  23.21 | Rec: 100.00 || Ex/s:  18.67\n",
            "\n",
            "===>  EVAL Epoch 10\n"
          ]
        },
        {
          "output_type": "stream",
          "name": "stderr",
          "text": [
            "0% [███] 100% | ETA: 00:00:00\n",
            "Total time elapsed: 00:00:05\n"
          ]
        },
        {
          "output_type": "stream",
          "name": "stdout",
          "text": [
            "Finished Epoch 10 || Run Time:    5.6 | Load Time:    0.2 || F1:  26.79 | Prec:  15.96 | Rec:  83.33 || Ex/s:  42.59\n",
            "\n",
            "* Best F1: tensor(26.7857)\n",
            "Saving best model...\n",
            "Done.\n",
            "---------------------\n",
            "\n",
            "Loading best model...\n",
            "Training done.\n"
          ]
        },
        {
          "output_type": "execute_result",
          "data": {
            "text/plain": [
              "tensor(26.7857)"
            ]
          },
          "metadata": {},
          "execution_count": 14
        }
      ]
    },
    {
      "cell_type": "code",
      "source": [
        "model = dm.MatchingModel(attr_summarizer='attention')\n",
        "\n",
        "model.run_train(\n",
        "    train,\n",
        "    validation,\n",
        "    epochs=10,\n",
        "    batch_size=16,\n",
        "    best_save_path='attention_model.pth',\n",
        "    pos_neg_ratio=17)"
      ],
      "metadata": {
        "colab": {
          "base_uri": "https://localhost:8080/"
        },
        "id": "IG-pFS0yIa5p",
        "outputId": "fd205395-5fac-41c7-bc00-c71894fb7bec"
      },
      "execution_count": null,
      "outputs": [
        {
          "output_type": "stream",
          "name": "stdout",
          "text": [
            "* Number of trainable parameters: 3429602\n",
            "===>  TRAIN Epoch 1\n"
          ]
        },
        {
          "output_type": "stream",
          "name": "stderr",
          "text": [
            "0% [█████████] 100% | ETA: 00:00:00\n",
            "Total time elapsed: 00:01:34\n"
          ]
        },
        {
          "output_type": "stream",
          "name": "stdout",
          "text": [
            "Finished Epoch 1 || Run Time:   99.0 | Load Time:    0.4 || F1:  16.24 | Prec:   8.86 | Rec:  96.92 || Ex/s:   7.40\n",
            "\n",
            "===>  EVAL Epoch 1\n"
          ]
        },
        {
          "output_type": "stream",
          "name": "stderr",
          "text": [
            "0% [███] 100% | ETA: 00:00:00\n",
            "Total time elapsed: 00:00:12\n"
          ]
        },
        {
          "output_type": "stream",
          "name": "stdout",
          "text": [
            "Finished Epoch 1 || Run Time:   12.3 | Load Time:    0.1 || F1:  13.69 | Prec:   7.35 | Rec: 100.00 || Ex/s:  19.78\n",
            "\n",
            "* Best F1: tensor(13.6882)\n",
            "Saving best model...\n",
            "Done.\n",
            "---------------------\n",
            "\n",
            "===>  TRAIN Epoch 2\n"
          ]
        },
        {
          "output_type": "stream",
          "name": "stderr",
          "text": [
            "0% [█████████] 100% | ETA: 00:00:00\n",
            "Total time elapsed: 00:01:35\n"
          ]
        },
        {
          "output_type": "stream",
          "name": "stdout",
          "text": [
            "Finished Epoch 2 || Run Time:   97.8 | Load Time:    0.4 || F1:  16.25 | Prec:   8.84 | Rec: 100.00 || Ex/s:   7.49\n",
            "\n",
            "===>  EVAL Epoch 2\n"
          ]
        },
        {
          "output_type": "stream",
          "name": "stderr",
          "text": [
            "0% [███] 100% | ETA: 00:00:00\n",
            "Total time elapsed: 00:00:11\n"
          ]
        },
        {
          "output_type": "stream",
          "name": "stdout",
          "text": [
            "Finished Epoch 2 || Run Time:   12.0 | Load Time:    0.1 || F1:  13.69 | Prec:   7.35 | Rec: 100.00 || Ex/s:  20.19\n",
            "\n",
            "---------------------\n",
            "\n",
            "===>  TRAIN Epoch 3\n"
          ]
        },
        {
          "output_type": "stream",
          "name": "stderr",
          "text": [
            "0% [█████████] 100% | ETA: 00:00:00\n",
            "Total time elapsed: 00:01:33\n"
          ]
        },
        {
          "output_type": "stream",
          "name": "stdout",
          "text": [
            "Finished Epoch 3 || Run Time:   96.4 | Load Time:    0.4 || F1:  16.50 | Prec:   8.99 | Rec: 100.00 || Ex/s:   7.59\n",
            "\n",
            "===>  EVAL Epoch 3\n"
          ]
        },
        {
          "output_type": "stream",
          "name": "stderr",
          "text": [
            "0% [███] 100% | ETA: 00:00:00\n",
            "Total time elapsed: 00:00:11\n"
          ]
        },
        {
          "output_type": "stream",
          "name": "stdout",
          "text": [
            "Finished Epoch 3 || Run Time:   12.0 | Load Time:    0.1 || F1:  14.12 | Prec:   7.59 | Rec: 100.00 || Ex/s:  20.20\n",
            "\n",
            "* Best F1: tensor(14.1176)\n",
            "Saving best model...\n",
            "Done.\n",
            "---------------------\n",
            "\n",
            "===>  TRAIN Epoch 4\n"
          ]
        },
        {
          "output_type": "stream",
          "name": "stderr",
          "text": [
            "0% [█████████] 100% | ETA: 00:00:00\n",
            "Total time elapsed: 00:01:35\n"
          ]
        },
        {
          "output_type": "stream",
          "name": "stdout",
          "text": [
            "Finished Epoch 4 || Run Time:   98.7 | Load Time:    0.4 || F1:  17.15 | Prec:   9.38 | Rec: 100.00 || Ex/s:   7.41\n",
            "\n",
            "===>  EVAL Epoch 4\n"
          ]
        },
        {
          "output_type": "stream",
          "name": "stderr",
          "text": [
            "0% [███] 100% | ETA: 00:00:00\n",
            "Total time elapsed: 00:00:11\n"
          ]
        },
        {
          "output_type": "stream",
          "name": "stdout",
          "text": [
            "Finished Epoch 4 || Run Time:   12.1 | Load Time:    0.1 || F1:  14.72 | Prec:   7.98 | Rec:  94.44 || Ex/s:  20.09\n",
            "\n",
            "* Best F1: tensor(14.7186)\n",
            "Saving best model...\n",
            "Done.\n",
            "---------------------\n",
            "\n",
            "===>  TRAIN Epoch 5\n"
          ]
        },
        {
          "output_type": "stream",
          "name": "stderr",
          "text": [
            "0% [█████████] 100% | ETA: 00:00:00\n",
            "Total time elapsed: 00:01:33\n"
          ]
        },
        {
          "output_type": "stream",
          "name": "stdout",
          "text": [
            "Finished Epoch 5 || Run Time:   96.3 | Load Time:    0.4 || F1:  18.26 | Prec:  10.05 | Rec: 100.00 || Ex/s:   7.60\n",
            "\n",
            "===>  EVAL Epoch 5\n"
          ]
        },
        {
          "output_type": "stream",
          "name": "stderr",
          "text": [
            "0% [███] 100% | ETA: 00:00:00\n",
            "Total time elapsed: 00:00:12\n"
          ]
        },
        {
          "output_type": "stream",
          "name": "stdout",
          "text": [
            "Finished Epoch 5 || Run Time:   12.1 | Load Time:    0.1 || F1:  15.96 | Prec:   8.72 | Rec:  94.44 || Ex/s:  19.99\n",
            "\n",
            "* Best F1: tensor(15.9624)\n",
            "Saving best model...\n",
            "Done.\n",
            "---------------------\n",
            "\n",
            "===>  TRAIN Epoch 6\n"
          ]
        },
        {
          "output_type": "stream",
          "name": "stderr",
          "text": [
            "0% [█████████] 100% | ETA: 00:00:00\n",
            "Total time elapsed: 00:01:35\n"
          ]
        },
        {
          "output_type": "stream",
          "name": "stdout",
          "text": [
            "Finished Epoch 6 || Run Time:   99.9 | Load Time:    0.4 || F1:  19.06 | Prec:  10.53 | Rec: 100.00 || Ex/s:   7.32\n",
            "\n",
            "===>  EVAL Epoch 6\n"
          ]
        },
        {
          "output_type": "stream",
          "name": "stderr",
          "text": [
            "0% [███] 100% | ETA: 00:00:00\n",
            "Total time elapsed: 00:00:12\n"
          ]
        },
        {
          "output_type": "stream",
          "name": "stdout",
          "text": [
            "Finished Epoch 6 || Run Time:   12.3 | Load Time:    0.2 || F1:  15.69 | Prec:   8.60 | Rec:  88.89 || Ex/s:  19.75\n",
            "\n",
            "---------------------\n",
            "\n",
            "===>  TRAIN Epoch 7\n"
          ]
        },
        {
          "output_type": "stream",
          "name": "stderr",
          "text": [
            "0% [█████████] 100% | ETA: 00:00:00\n",
            "Total time elapsed: 00:01:36\n"
          ]
        },
        {
          "output_type": "stream",
          "name": "stdout",
          "text": [
            "Finished Epoch 7 || Run Time:   99.3 | Load Time:    0.4 || F1:  20.22 | Prec:  11.25 | Rec: 100.00 || Ex/s:   7.37\n",
            "\n",
            "===>  EVAL Epoch 7\n"
          ]
        },
        {
          "output_type": "stream",
          "name": "stderr",
          "text": [
            "0% [███] 100% | ETA: 00:00:00\n",
            "Total time elapsed: 00:00:12\n"
          ]
        },
        {
          "output_type": "stream",
          "name": "stdout",
          "text": [
            "Finished Epoch 7 || Run Time:   12.4 | Load Time:    0.1 || F1:  15.31 | Prec:   8.43 | Rec:  83.33 || Ex/s:  19.53\n",
            "\n",
            "---------------------\n",
            "\n",
            "===>  TRAIN Epoch 8\n"
          ]
        },
        {
          "output_type": "stream",
          "name": "stderr",
          "text": [
            "0% [█████████] 100% | ETA: 00:00:00\n",
            "Total time elapsed: 00:01:38\n"
          ]
        },
        {
          "output_type": "stream",
          "name": "stdout",
          "text": [
            "Finished Epoch 8 || Run Time:  102.0 | Load Time:    0.4 || F1:  20.97 | Prec:  11.71 | Rec: 100.00 || Ex/s:   7.18\n",
            "\n",
            "===>  EVAL Epoch 8\n"
          ]
        },
        {
          "output_type": "stream",
          "name": "stderr",
          "text": [
            "0% [███] 100% | ETA: 00:00:00\n",
            "Total time elapsed: 00:00:12\n"
          ]
        },
        {
          "output_type": "stream",
          "name": "stdout",
          "text": [
            "Finished Epoch 8 || Run Time:   12.6 | Load Time:    0.2 || F1:  15.15 | Prec:   8.33 | Rec:  83.33 || Ex/s:  19.23\n",
            "\n",
            "---------------------\n",
            "\n",
            "===>  TRAIN Epoch 9\n"
          ]
        },
        {
          "output_type": "stream",
          "name": "stderr",
          "text": [
            "0% [█████████] 100% | ETA: 00:00:00\n",
            "Total time elapsed: 00:01:36\n"
          ]
        },
        {
          "output_type": "stream",
          "name": "stdout",
          "text": [
            "Finished Epoch 9 || Run Time:   98.8 | Load Time:    0.4 || F1:  21.49 | Prec:  12.04 | Rec: 100.00 || Ex/s:   7.41\n",
            "\n",
            "===>  EVAL Epoch 9\n"
          ]
        },
        {
          "output_type": "stream",
          "name": "stderr",
          "text": [
            "0% [███] 100% | ETA: 00:00:00\n",
            "Total time elapsed: 00:00:12\n"
          ]
        },
        {
          "output_type": "stream",
          "name": "stdout",
          "text": [
            "Finished Epoch 9 || Run Time:   12.4 | Load Time:    0.1 || F1:  15.08 | Prec:   8.29 | Rec:  83.33 || Ex/s:  19.48\n",
            "\n",
            "---------------------\n",
            "\n",
            "===>  TRAIN Epoch 10\n"
          ]
        },
        {
          "output_type": "stream",
          "name": "stderr",
          "text": [
            "0% [█████████] 100% | ETA: 00:00:00\n",
            "Total time elapsed: 00:01:35\n"
          ]
        },
        {
          "output_type": "stream",
          "name": "stdout",
          "text": [
            "Finished Epoch 10 || Run Time:   99.0 | Load Time:    0.4 || F1:  21.85 | Prec:  12.26 | Rec: 100.00 || Ex/s:   7.39\n",
            "\n",
            "===>  EVAL Epoch 10\n"
          ]
        },
        {
          "output_type": "stream",
          "name": "stderr",
          "text": [
            "0% [███] 100% | ETA: 00:00:00\n",
            "Total time elapsed: 00:00:11\n"
          ]
        },
        {
          "output_type": "stream",
          "name": "stdout",
          "text": [
            "Finished Epoch 10 || Run Time:   11.9 | Load Time:    0.1 || F1:  16.92 | Prec:   9.29 | Rec:  94.44 || Ex/s:  20.33\n",
            "\n",
            "* Best F1: tensor(16.9154)\n",
            "Saving best model...\n",
            "Done.\n",
            "---------------------\n",
            "\n",
            "Loading best model...\n",
            "Training done.\n"
          ]
        },
        {
          "output_type": "execute_result",
          "data": {
            "text/plain": [
              "tensor(16.9154)"
            ]
          },
          "metadata": {},
          "execution_count": 15
        }
      ]
    }
  ]
}